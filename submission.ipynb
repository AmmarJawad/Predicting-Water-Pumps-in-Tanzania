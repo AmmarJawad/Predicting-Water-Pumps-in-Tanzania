{
 "cells": [
  {
   "cell_type": "markdown",
   "metadata": {},
   "source": [
    "# Importing Libraries"
   ]
  },
  {
   "cell_type": "code",
   "execution_count": 8,
   "metadata": {},
   "outputs": [],
   "source": [
    "import pandas as pd\n",
    "import numpy as np\n",
    "import seaborn as sns\n",
    "import matplotlib.pyplot as plt\n",
    "#import xgboost as xgb\n",
    "from sklearn.preprocessing import LabelEncoder"
   ]
  },
  {
   "cell_type": "markdown",
   "metadata": {},
   "source": [
    "# Reading in Data"
   ]
  },
  {
   "cell_type": "code",
   "execution_count": 9,
   "metadata": {},
   "outputs": [],
   "source": [
    "data_feat = pd.read_csv(\"Pump_it_Up_Data_Mining_the_Water_Table_-_Training_set_values.csv\")\n",
    "data_labels = pd.read_csv(\"Pump_it_Up_Data_Mining_the_Water_Table_-_Training_set_labels.csv\")\n",
    "test_feat = pd.read_csv(\"Pump_it_Up_Data_Mining_the_Water_Table_-_Test_set_values.csv\")\n",
    "\n",
    "pd.set_option('display.max_columns', None)\n"
   ]
  },
  {
   "cell_type": "code",
   "execution_count": 10,
   "metadata": {},
   "outputs": [
    {
     "data": {
      "text/html": [
       "<div>\n",
       "<style scoped>\n",
       "    .dataframe tbody tr th:only-of-type {\n",
       "        vertical-align: middle;\n",
       "    }\n",
       "\n",
       "    .dataframe tbody tr th {\n",
       "        vertical-align: top;\n",
       "    }\n",
       "\n",
       "    .dataframe thead th {\n",
       "        text-align: right;\n",
       "    }\n",
       "</style>\n",
       "<table border=\"1\" class=\"dataframe\">\n",
       "  <thead>\n",
       "    <tr style=\"text-align: right;\">\n",
       "      <th></th>\n",
       "      <th>id</th>\n",
       "      <th>amount_tsh</th>\n",
       "      <th>date_recorded</th>\n",
       "      <th>funder</th>\n",
       "      <th>gps_height</th>\n",
       "      <th>installer</th>\n",
       "      <th>longitude</th>\n",
       "      <th>latitude</th>\n",
       "      <th>wpt_name</th>\n",
       "      <th>num_private</th>\n",
       "      <th>basin</th>\n",
       "      <th>subvillage</th>\n",
       "      <th>region</th>\n",
       "      <th>region_code</th>\n",
       "      <th>district_code</th>\n",
       "      <th>lga</th>\n",
       "      <th>ward</th>\n",
       "      <th>population</th>\n",
       "      <th>public_meeting</th>\n",
       "      <th>recorded_by</th>\n",
       "      <th>scheme_management</th>\n",
       "      <th>scheme_name</th>\n",
       "      <th>permit</th>\n",
       "      <th>construction_year</th>\n",
       "      <th>extraction_type</th>\n",
       "      <th>extraction_type_group</th>\n",
       "      <th>extraction_type_class</th>\n",
       "      <th>management</th>\n",
       "      <th>management_group</th>\n",
       "      <th>payment</th>\n",
       "      <th>payment_type</th>\n",
       "      <th>water_quality</th>\n",
       "      <th>quality_group</th>\n",
       "      <th>quantity</th>\n",
       "      <th>quantity_group</th>\n",
       "      <th>source</th>\n",
       "      <th>source_type</th>\n",
       "      <th>source_class</th>\n",
       "      <th>waterpoint_type</th>\n",
       "      <th>waterpoint_type_group</th>\n",
       "    </tr>\n",
       "  </thead>\n",
       "  <tbody>\n",
       "    <tr>\n",
       "      <th>0</th>\n",
       "      <td>69572</td>\n",
       "      <td>6000.0</td>\n",
       "      <td>2011-03-14</td>\n",
       "      <td>Roman</td>\n",
       "      <td>1390</td>\n",
       "      <td>Roman</td>\n",
       "      <td>34.938093</td>\n",
       "      <td>-9.856322</td>\n",
       "      <td>none</td>\n",
       "      <td>0</td>\n",
       "      <td>Lake Nyasa</td>\n",
       "      <td>Mnyusi B</td>\n",
       "      <td>Iringa</td>\n",
       "      <td>11</td>\n",
       "      <td>5</td>\n",
       "      <td>Ludewa</td>\n",
       "      <td>Mundindi</td>\n",
       "      <td>109</td>\n",
       "      <td>True</td>\n",
       "      <td>GeoData Consultants Ltd</td>\n",
       "      <td>VWC</td>\n",
       "      <td>Roman</td>\n",
       "      <td>False</td>\n",
       "      <td>1999</td>\n",
       "      <td>gravity</td>\n",
       "      <td>gravity</td>\n",
       "      <td>gravity</td>\n",
       "      <td>vwc</td>\n",
       "      <td>user-group</td>\n",
       "      <td>pay annually</td>\n",
       "      <td>annually</td>\n",
       "      <td>soft</td>\n",
       "      <td>good</td>\n",
       "      <td>enough</td>\n",
       "      <td>enough</td>\n",
       "      <td>spring</td>\n",
       "      <td>spring</td>\n",
       "      <td>groundwater</td>\n",
       "      <td>communal standpipe</td>\n",
       "      <td>communal standpipe</td>\n",
       "    </tr>\n",
       "    <tr>\n",
       "      <th>1</th>\n",
       "      <td>8776</td>\n",
       "      <td>0.0</td>\n",
       "      <td>2013-03-06</td>\n",
       "      <td>Grumeti</td>\n",
       "      <td>1399</td>\n",
       "      <td>GRUMETI</td>\n",
       "      <td>34.698766</td>\n",
       "      <td>-2.147466</td>\n",
       "      <td>Zahanati</td>\n",
       "      <td>0</td>\n",
       "      <td>Lake Victoria</td>\n",
       "      <td>Nyamara</td>\n",
       "      <td>Mara</td>\n",
       "      <td>20</td>\n",
       "      <td>2</td>\n",
       "      <td>Serengeti</td>\n",
       "      <td>Natta</td>\n",
       "      <td>280</td>\n",
       "      <td>NaN</td>\n",
       "      <td>GeoData Consultants Ltd</td>\n",
       "      <td>Other</td>\n",
       "      <td>NaN</td>\n",
       "      <td>True</td>\n",
       "      <td>2010</td>\n",
       "      <td>gravity</td>\n",
       "      <td>gravity</td>\n",
       "      <td>gravity</td>\n",
       "      <td>wug</td>\n",
       "      <td>user-group</td>\n",
       "      <td>never pay</td>\n",
       "      <td>never pay</td>\n",
       "      <td>soft</td>\n",
       "      <td>good</td>\n",
       "      <td>insufficient</td>\n",
       "      <td>insufficient</td>\n",
       "      <td>rainwater harvesting</td>\n",
       "      <td>rainwater harvesting</td>\n",
       "      <td>surface</td>\n",
       "      <td>communal standpipe</td>\n",
       "      <td>communal standpipe</td>\n",
       "    </tr>\n",
       "    <tr>\n",
       "      <th>2</th>\n",
       "      <td>34310</td>\n",
       "      <td>25.0</td>\n",
       "      <td>2013-02-25</td>\n",
       "      <td>Lottery Club</td>\n",
       "      <td>686</td>\n",
       "      <td>World vision</td>\n",
       "      <td>37.460664</td>\n",
       "      <td>-3.821329</td>\n",
       "      <td>Kwa Mahundi</td>\n",
       "      <td>0</td>\n",
       "      <td>Pangani</td>\n",
       "      <td>Majengo</td>\n",
       "      <td>Manyara</td>\n",
       "      <td>21</td>\n",
       "      <td>4</td>\n",
       "      <td>Simanjiro</td>\n",
       "      <td>Ngorika</td>\n",
       "      <td>250</td>\n",
       "      <td>True</td>\n",
       "      <td>GeoData Consultants Ltd</td>\n",
       "      <td>VWC</td>\n",
       "      <td>Nyumba ya mungu pipe scheme</td>\n",
       "      <td>True</td>\n",
       "      <td>2009</td>\n",
       "      <td>gravity</td>\n",
       "      <td>gravity</td>\n",
       "      <td>gravity</td>\n",
       "      <td>vwc</td>\n",
       "      <td>user-group</td>\n",
       "      <td>pay per bucket</td>\n",
       "      <td>per bucket</td>\n",
       "      <td>soft</td>\n",
       "      <td>good</td>\n",
       "      <td>enough</td>\n",
       "      <td>enough</td>\n",
       "      <td>dam</td>\n",
       "      <td>dam</td>\n",
       "      <td>surface</td>\n",
       "      <td>communal standpipe multiple</td>\n",
       "      <td>communal standpipe</td>\n",
       "    </tr>\n",
       "    <tr>\n",
       "      <th>3</th>\n",
       "      <td>67743</td>\n",
       "      <td>0.0</td>\n",
       "      <td>2013-01-28</td>\n",
       "      <td>Unicef</td>\n",
       "      <td>263</td>\n",
       "      <td>UNICEF</td>\n",
       "      <td>38.486161</td>\n",
       "      <td>-11.155298</td>\n",
       "      <td>Zahanati Ya Nanyumbu</td>\n",
       "      <td>0</td>\n",
       "      <td>Ruvuma / Southern Coast</td>\n",
       "      <td>Mahakamani</td>\n",
       "      <td>Mtwara</td>\n",
       "      <td>90</td>\n",
       "      <td>63</td>\n",
       "      <td>Nanyumbu</td>\n",
       "      <td>Nanyumbu</td>\n",
       "      <td>58</td>\n",
       "      <td>True</td>\n",
       "      <td>GeoData Consultants Ltd</td>\n",
       "      <td>VWC</td>\n",
       "      <td>NaN</td>\n",
       "      <td>True</td>\n",
       "      <td>1986</td>\n",
       "      <td>submersible</td>\n",
       "      <td>submersible</td>\n",
       "      <td>submersible</td>\n",
       "      <td>vwc</td>\n",
       "      <td>user-group</td>\n",
       "      <td>never pay</td>\n",
       "      <td>never pay</td>\n",
       "      <td>soft</td>\n",
       "      <td>good</td>\n",
       "      <td>dry</td>\n",
       "      <td>dry</td>\n",
       "      <td>machine dbh</td>\n",
       "      <td>borehole</td>\n",
       "      <td>groundwater</td>\n",
       "      <td>communal standpipe multiple</td>\n",
       "      <td>communal standpipe</td>\n",
       "    </tr>\n",
       "    <tr>\n",
       "      <th>4</th>\n",
       "      <td>19728</td>\n",
       "      <td>0.0</td>\n",
       "      <td>2011-07-13</td>\n",
       "      <td>Action In A</td>\n",
       "      <td>0</td>\n",
       "      <td>Artisan</td>\n",
       "      <td>31.130847</td>\n",
       "      <td>-1.825359</td>\n",
       "      <td>Shuleni</td>\n",
       "      <td>0</td>\n",
       "      <td>Lake Victoria</td>\n",
       "      <td>Kyanyamisa</td>\n",
       "      <td>Kagera</td>\n",
       "      <td>18</td>\n",
       "      <td>1</td>\n",
       "      <td>Karagwe</td>\n",
       "      <td>Nyakasimbi</td>\n",
       "      <td>0</td>\n",
       "      <td>True</td>\n",
       "      <td>GeoData Consultants Ltd</td>\n",
       "      <td>NaN</td>\n",
       "      <td>NaN</td>\n",
       "      <td>True</td>\n",
       "      <td>0</td>\n",
       "      <td>gravity</td>\n",
       "      <td>gravity</td>\n",
       "      <td>gravity</td>\n",
       "      <td>other</td>\n",
       "      <td>other</td>\n",
       "      <td>never pay</td>\n",
       "      <td>never pay</td>\n",
       "      <td>soft</td>\n",
       "      <td>good</td>\n",
       "      <td>seasonal</td>\n",
       "      <td>seasonal</td>\n",
       "      <td>rainwater harvesting</td>\n",
       "      <td>rainwater harvesting</td>\n",
       "      <td>surface</td>\n",
       "      <td>communal standpipe</td>\n",
       "      <td>communal standpipe</td>\n",
       "    </tr>\n",
       "  </tbody>\n",
       "</table>\n",
       "</div>"
      ],
      "text/plain": [
       "      id  amount_tsh date_recorded        funder  gps_height     installer  \\\n",
       "0  69572      6000.0    2011-03-14         Roman        1390         Roman   \n",
       "1   8776         0.0    2013-03-06       Grumeti        1399       GRUMETI   \n",
       "2  34310        25.0    2013-02-25  Lottery Club         686  World vision   \n",
       "3  67743         0.0    2013-01-28        Unicef         263        UNICEF   \n",
       "4  19728         0.0    2011-07-13   Action In A           0       Artisan   \n",
       "\n",
       "   longitude   latitude              wpt_name  num_private  \\\n",
       "0  34.938093  -9.856322                  none            0   \n",
       "1  34.698766  -2.147466              Zahanati            0   \n",
       "2  37.460664  -3.821329           Kwa Mahundi            0   \n",
       "3  38.486161 -11.155298  Zahanati Ya Nanyumbu            0   \n",
       "4  31.130847  -1.825359               Shuleni            0   \n",
       "\n",
       "                     basin  subvillage   region  region_code  district_code  \\\n",
       "0               Lake Nyasa    Mnyusi B   Iringa           11              5   \n",
       "1            Lake Victoria     Nyamara     Mara           20              2   \n",
       "2                  Pangani     Majengo  Manyara           21              4   \n",
       "3  Ruvuma / Southern Coast  Mahakamani   Mtwara           90             63   \n",
       "4            Lake Victoria  Kyanyamisa   Kagera           18              1   \n",
       "\n",
       "         lga        ward  population public_meeting              recorded_by  \\\n",
       "0     Ludewa    Mundindi         109           True  GeoData Consultants Ltd   \n",
       "1  Serengeti       Natta         280            NaN  GeoData Consultants Ltd   \n",
       "2  Simanjiro     Ngorika         250           True  GeoData Consultants Ltd   \n",
       "3   Nanyumbu    Nanyumbu          58           True  GeoData Consultants Ltd   \n",
       "4    Karagwe  Nyakasimbi           0           True  GeoData Consultants Ltd   \n",
       "\n",
       "  scheme_management                  scheme_name permit  construction_year  \\\n",
       "0               VWC                        Roman  False               1999   \n",
       "1             Other                          NaN   True               2010   \n",
       "2               VWC  Nyumba ya mungu pipe scheme   True               2009   \n",
       "3               VWC                          NaN   True               1986   \n",
       "4               NaN                          NaN   True                  0   \n",
       "\n",
       "  extraction_type extraction_type_group extraction_type_class management  \\\n",
       "0         gravity               gravity               gravity        vwc   \n",
       "1         gravity               gravity               gravity        wug   \n",
       "2         gravity               gravity               gravity        vwc   \n",
       "3     submersible           submersible           submersible        vwc   \n",
       "4         gravity               gravity               gravity      other   \n",
       "\n",
       "  management_group         payment payment_type water_quality quality_group  \\\n",
       "0       user-group    pay annually     annually          soft          good   \n",
       "1       user-group       never pay    never pay          soft          good   \n",
       "2       user-group  pay per bucket   per bucket          soft          good   \n",
       "3       user-group       never pay    never pay          soft          good   \n",
       "4            other       never pay    never pay          soft          good   \n",
       "\n",
       "       quantity quantity_group                source           source_type  \\\n",
       "0        enough         enough                spring                spring   \n",
       "1  insufficient   insufficient  rainwater harvesting  rainwater harvesting   \n",
       "2        enough         enough                   dam                   dam   \n",
       "3           dry            dry           machine dbh              borehole   \n",
       "4      seasonal       seasonal  rainwater harvesting  rainwater harvesting   \n",
       "\n",
       "  source_class              waterpoint_type waterpoint_type_group  \n",
       "0  groundwater           communal standpipe    communal standpipe  \n",
       "1      surface           communal standpipe    communal standpipe  \n",
       "2      surface  communal standpipe multiple    communal standpipe  \n",
       "3  groundwater  communal standpipe multiple    communal standpipe  \n",
       "4      surface           communal standpipe    communal standpipe  "
      ]
     },
     "execution_count": 10,
     "metadata": {},
     "output_type": "execute_result"
    }
   ],
   "source": [
    "data_feat.head()"
   ]
  },
  {
   "cell_type": "code",
   "execution_count": 11,
   "metadata": {},
   "outputs": [
    {
     "data": {
      "text/html": [
       "<div>\n",
       "<style scoped>\n",
       "    .dataframe tbody tr th:only-of-type {\n",
       "        vertical-align: middle;\n",
       "    }\n",
       "\n",
       "    .dataframe tbody tr th {\n",
       "        vertical-align: top;\n",
       "    }\n",
       "\n",
       "    .dataframe thead th {\n",
       "        text-align: right;\n",
       "    }\n",
       "</style>\n",
       "<table border=\"1\" class=\"dataframe\">\n",
       "  <thead>\n",
       "    <tr style=\"text-align: right;\">\n",
       "      <th></th>\n",
       "      <th>id</th>\n",
       "      <th>status_group</th>\n",
       "    </tr>\n",
       "  </thead>\n",
       "  <tbody>\n",
       "    <tr>\n",
       "      <th>0</th>\n",
       "      <td>69572</td>\n",
       "      <td>functional</td>\n",
       "    </tr>\n",
       "    <tr>\n",
       "      <th>1</th>\n",
       "      <td>8776</td>\n",
       "      <td>functional</td>\n",
       "    </tr>\n",
       "    <tr>\n",
       "      <th>2</th>\n",
       "      <td>34310</td>\n",
       "      <td>functional</td>\n",
       "    </tr>\n",
       "    <tr>\n",
       "      <th>3</th>\n",
       "      <td>67743</td>\n",
       "      <td>non functional</td>\n",
       "    </tr>\n",
       "    <tr>\n",
       "      <th>4</th>\n",
       "      <td>19728</td>\n",
       "      <td>functional</td>\n",
       "    </tr>\n",
       "  </tbody>\n",
       "</table>\n",
       "</div>"
      ],
      "text/plain": [
       "      id    status_group\n",
       "0  69572      functional\n",
       "1   8776      functional\n",
       "2  34310      functional\n",
       "3  67743  non functional\n",
       "4  19728      functional"
      ]
     },
     "execution_count": 11,
     "metadata": {},
     "output_type": "execute_result"
    }
   ],
   "source": [
    "data_labels.head()"
   ]
  },
  {
   "cell_type": "markdown",
   "metadata": {},
   "source": [
    "Left-align the table below instead of centered which is default in Markdown:"
   ]
  },
  {
   "cell_type": "code",
   "execution_count": 12,
   "metadata": {},
   "outputs": [
    {
     "data": {
      "text/html": [
       "<style>\n",
       "table {float:left}\n",
       "</style>"
      ],
      "text/plain": [
       "<IPython.core.display.HTML object>"
      ]
     },
     "metadata": {},
     "output_type": "display_data"
    }
   ],
   "source": [
    "%%html\n",
    "<style>\n",
    "table {float:left}\n",
    "</style>"
   ]
  },
  {
   "cell_type": "markdown",
   "metadata": {},
   "source": [
    "| Column_name   | Description\n",
    "|:-|:---------------------------------------------------------\n",
    "| amount_tsh  | Total static head (amount water available to waterpoint)|\n",
    "| date_recorded | The date the row was entered |\n",
    "| funder | Who funded the well |\n",
    "| gps_height | Altitude of the well |\n",
    "| installer | Organization that installed the well |\n",
    "| longitude | GPS coordinate |\n",
    "| latitude | GPS coordinate  |\n",
    "| wpt_name | Name of the waterpoint if there is one |\n",
    "| num_private |  N/A |\n",
    "| basin | Geographic water basin |\n",
    "| subvillage | Geographic location |\n",
    "| region | Geographic location |\n",
    "| region_code | Geographic location (coded) |\n",
    "| district_code | Geographic location (coded) |\n",
    "| lga |  Geographic location  |\n",
    "| ward | Geographic location |\n",
    "| population | Population around the well |\n",
    "| public_meeting | True/False |\n",
    "| recorded_by | Group entering this row of data |\n",
    "| scheme_management | Who operates the waterpoint |\n",
    "| scheme_name | Who operates the waterpoint |\n",
    "| permit | If the waterpoint is permitted |\n",
    "| construction_year | Year the waterpoint was constructed |\n",
    "| extraction_type | The kind of extraction the waterpoint uses |\n",
    "| extraction_type_group | The kind of extraction the waterpoint uses |\n",
    "| extraction_type_class | The kind of extraction the waterpoint uses  |\n",
    "| management | How the waterpoint is managed  |\n",
    "| management_group | How the waterpoint is managed |\n",
    "| payment | What the water costs |\n",
    "| payment_type | What the water costs  |\n",
    "| water_quality | The quality of the water  |\n",
    "| quality_group | The quality of the water  |\n",
    "| quantity | The quantity of water |\n",
    "| quantity_group | The quantity of water  |\n",
    "| source | The source of the water  |\n",
    "| source_type | The source of the water  |\n",
    "| source_class | The source of the water  |\n",
    "| waterpoint_type | The kind of waterpoint |\n",
    "| waterpoint_type_group | The kind of waterpoint |"
   ]
  },
  {
   "cell_type": "markdown",
   "metadata": {},
   "source": [
    "Join the features csv with the labels csv into one training dataframe."
   ]
  },
  {
   "cell_type": "code",
   "execution_count": 13,
   "metadata": {
    "scrolled": true
   },
   "outputs": [
    {
     "data": {
      "text/html": [
       "<div>\n",
       "<style scoped>\n",
       "    .dataframe tbody tr th:only-of-type {\n",
       "        vertical-align: middle;\n",
       "    }\n",
       "\n",
       "    .dataframe tbody tr th {\n",
       "        vertical-align: top;\n",
       "    }\n",
       "\n",
       "    .dataframe thead th {\n",
       "        text-align: right;\n",
       "    }\n",
       "</style>\n",
       "<table border=\"1\" class=\"dataframe\">\n",
       "  <thead>\n",
       "    <tr style=\"text-align: right;\">\n",
       "      <th></th>\n",
       "      <th>id</th>\n",
       "      <th>amount_tsh</th>\n",
       "      <th>date_recorded</th>\n",
       "      <th>funder</th>\n",
       "      <th>gps_height</th>\n",
       "      <th>installer</th>\n",
       "      <th>longitude</th>\n",
       "      <th>latitude</th>\n",
       "      <th>wpt_name</th>\n",
       "      <th>num_private</th>\n",
       "      <th>basin</th>\n",
       "      <th>subvillage</th>\n",
       "      <th>region</th>\n",
       "      <th>region_code</th>\n",
       "      <th>district_code</th>\n",
       "      <th>lga</th>\n",
       "      <th>ward</th>\n",
       "      <th>population</th>\n",
       "      <th>public_meeting</th>\n",
       "      <th>recorded_by</th>\n",
       "      <th>scheme_management</th>\n",
       "      <th>scheme_name</th>\n",
       "      <th>permit</th>\n",
       "      <th>construction_year</th>\n",
       "      <th>extraction_type</th>\n",
       "      <th>extraction_type_group</th>\n",
       "      <th>extraction_type_class</th>\n",
       "      <th>management</th>\n",
       "      <th>management_group</th>\n",
       "      <th>payment</th>\n",
       "      <th>payment_type</th>\n",
       "      <th>water_quality</th>\n",
       "      <th>quality_group</th>\n",
       "      <th>quantity</th>\n",
       "      <th>quantity_group</th>\n",
       "      <th>source</th>\n",
       "      <th>source_type</th>\n",
       "      <th>source_class</th>\n",
       "      <th>waterpoint_type</th>\n",
       "      <th>waterpoint_type_group</th>\n",
       "      <th>status_group</th>\n",
       "    </tr>\n",
       "  </thead>\n",
       "  <tbody>\n",
       "    <tr>\n",
       "      <th>1117</th>\n",
       "      <td>27733</td>\n",
       "      <td>0.0</td>\n",
       "      <td>2012-11-06</td>\n",
       "      <td>Government Of Tanzania</td>\n",
       "      <td>0</td>\n",
       "      <td>Government</td>\n",
       "      <td>34.056143</td>\n",
       "      <td>-3.099558</td>\n",
       "      <td>Mange</td>\n",
       "      <td>0</td>\n",
       "      <td>Lake Victoria</td>\n",
       "      <td>Mbuga</td>\n",
       "      <td>Shinyanga</td>\n",
       "      <td>17</td>\n",
       "      <td>2</td>\n",
       "      <td>Maswa</td>\n",
       "      <td>Ipililo</td>\n",
       "      <td>0</td>\n",
       "      <td>True</td>\n",
       "      <td>GeoData Consultants Ltd</td>\n",
       "      <td>WUG</td>\n",
       "      <td>NaN</td>\n",
       "      <td>False</td>\n",
       "      <td>0</td>\n",
       "      <td>swn 80</td>\n",
       "      <td>swn 80</td>\n",
       "      <td>handpump</td>\n",
       "      <td>wug</td>\n",
       "      <td>user-group</td>\n",
       "      <td>other</td>\n",
       "      <td>other</td>\n",
       "      <td>soft</td>\n",
       "      <td>good</td>\n",
       "      <td>insufficient</td>\n",
       "      <td>insufficient</td>\n",
       "      <td>shallow well</td>\n",
       "      <td>shallow well</td>\n",
       "      <td>groundwater</td>\n",
       "      <td>hand pump</td>\n",
       "      <td>hand pump</td>\n",
       "      <td>functional</td>\n",
       "    </tr>\n",
       "    <tr>\n",
       "      <th>11037</th>\n",
       "      <td>29898</td>\n",
       "      <td>0.0</td>\n",
       "      <td>2011-03-17</td>\n",
       "      <td>Danida</td>\n",
       "      <td>1673</td>\n",
       "      <td>DWE</td>\n",
       "      <td>34.958578</td>\n",
       "      <td>-8.604219</td>\n",
       "      <td>none</td>\n",
       "      <td>0</td>\n",
       "      <td>Rufiji</td>\n",
       "      <td>M</td>\n",
       "      <td>Iringa</td>\n",
       "      <td>11</td>\n",
       "      <td>2</td>\n",
       "      <td>Mufindi</td>\n",
       "      <td>Mbalamaziwa</td>\n",
       "      <td>0</td>\n",
       "      <td>True</td>\n",
       "      <td>GeoData Consultants Ltd</td>\n",
       "      <td>VWC</td>\n",
       "      <td>Mba</td>\n",
       "      <td>True</td>\n",
       "      <td>0</td>\n",
       "      <td>gravity</td>\n",
       "      <td>gravity</td>\n",
       "      <td>gravity</td>\n",
       "      <td>vwc</td>\n",
       "      <td>user-group</td>\n",
       "      <td>pay annually</td>\n",
       "      <td>annually</td>\n",
       "      <td>soft</td>\n",
       "      <td>good</td>\n",
       "      <td>enough</td>\n",
       "      <td>enough</td>\n",
       "      <td>spring</td>\n",
       "      <td>spring</td>\n",
       "      <td>groundwater</td>\n",
       "      <td>communal standpipe</td>\n",
       "      <td>communal standpipe</td>\n",
       "      <td>functional</td>\n",
       "    </tr>\n",
       "    <tr>\n",
       "      <th>51173</th>\n",
       "      <td>10430</td>\n",
       "      <td>0.0</td>\n",
       "      <td>2013-03-16</td>\n",
       "      <td>NaN</td>\n",
       "      <td>964</td>\n",
       "      <td>NaN</td>\n",
       "      <td>35.852224</td>\n",
       "      <td>-3.390573</td>\n",
       "      <td>Kwa Mama Lukaa</td>\n",
       "      <td>0</td>\n",
       "      <td>Internal</td>\n",
       "      <td>Jangwani</td>\n",
       "      <td>Arusha</td>\n",
       "      <td>2</td>\n",
       "      <td>1</td>\n",
       "      <td>Monduli</td>\n",
       "      <td>Esilalei</td>\n",
       "      <td>1</td>\n",
       "      <td>False</td>\n",
       "      <td>GeoData Consultants Ltd</td>\n",
       "      <td>WUA</td>\n",
       "      <td>A</td>\n",
       "      <td>NaN</td>\n",
       "      <td>2000</td>\n",
       "      <td>gravity</td>\n",
       "      <td>gravity</td>\n",
       "      <td>gravity</td>\n",
       "      <td>wua</td>\n",
       "      <td>user-group</td>\n",
       "      <td>never pay</td>\n",
       "      <td>never pay</td>\n",
       "      <td>soft</td>\n",
       "      <td>good</td>\n",
       "      <td>enough</td>\n",
       "      <td>enough</td>\n",
       "      <td>spring</td>\n",
       "      <td>spring</td>\n",
       "      <td>groundwater</td>\n",
       "      <td>communal standpipe</td>\n",
       "      <td>communal standpipe</td>\n",
       "      <td>functional</td>\n",
       "    </tr>\n",
       "    <tr>\n",
       "      <th>38883</th>\n",
       "      <td>33487</td>\n",
       "      <td>0.0</td>\n",
       "      <td>2013-02-05</td>\n",
       "      <td>Wateraid</td>\n",
       "      <td>0</td>\n",
       "      <td>SEMA</td>\n",
       "      <td>33.021590</td>\n",
       "      <td>-4.604464</td>\n",
       "      <td>Mwanhembo 1</td>\n",
       "      <td>0</td>\n",
       "      <td>Lake Tanganyika</td>\n",
       "      <td>Mwanhembo 1</td>\n",
       "      <td>Tabora</td>\n",
       "      <td>14</td>\n",
       "      <td>1</td>\n",
       "      <td>Nzega</td>\n",
       "      <td>Mwakanshashala</td>\n",
       "      <td>0</td>\n",
       "      <td>False</td>\n",
       "      <td>GeoData Consultants Ltd</td>\n",
       "      <td>VWC</td>\n",
       "      <td>NaN</td>\n",
       "      <td>True</td>\n",
       "      <td>0</td>\n",
       "      <td>afridev</td>\n",
       "      <td>afridev</td>\n",
       "      <td>handpump</td>\n",
       "      <td>vwc</td>\n",
       "      <td>user-group</td>\n",
       "      <td>never pay</td>\n",
       "      <td>never pay</td>\n",
       "      <td>soft</td>\n",
       "      <td>good</td>\n",
       "      <td>enough</td>\n",
       "      <td>enough</td>\n",
       "      <td>machine dbh</td>\n",
       "      <td>borehole</td>\n",
       "      <td>groundwater</td>\n",
       "      <td>hand pump</td>\n",
       "      <td>hand pump</td>\n",
       "      <td>non functional</td>\n",
       "    </tr>\n",
       "    <tr>\n",
       "      <th>7353</th>\n",
       "      <td>34879</td>\n",
       "      <td>0.0</td>\n",
       "      <td>2011-04-04</td>\n",
       "      <td>NaN</td>\n",
       "      <td>0</td>\n",
       "      <td>NaN</td>\n",
       "      <td>34.260957</td>\n",
       "      <td>-8.612772</td>\n",
       "      <td>Kwa Mwanyimbo</td>\n",
       "      <td>0</td>\n",
       "      <td>Rufiji</td>\n",
       "      <td>Jitegemee</td>\n",
       "      <td>Mbeya</td>\n",
       "      <td>12</td>\n",
       "      <td>7</td>\n",
       "      <td>Mbarali</td>\n",
       "      <td>Ubaruku</td>\n",
       "      <td>0</td>\n",
       "      <td>True</td>\n",
       "      <td>GeoData Consultants Ltd</td>\n",
       "      <td>VWC</td>\n",
       "      <td>NaN</td>\n",
       "      <td>True</td>\n",
       "      <td>0</td>\n",
       "      <td>gravity</td>\n",
       "      <td>gravity</td>\n",
       "      <td>gravity</td>\n",
       "      <td>vwc</td>\n",
       "      <td>user-group</td>\n",
       "      <td>never pay</td>\n",
       "      <td>never pay</td>\n",
       "      <td>soft</td>\n",
       "      <td>good</td>\n",
       "      <td>seasonal</td>\n",
       "      <td>seasonal</td>\n",
       "      <td>river</td>\n",
       "      <td>river/lake</td>\n",
       "      <td>surface</td>\n",
       "      <td>communal standpipe</td>\n",
       "      <td>communal standpipe</td>\n",
       "      <td>non functional</td>\n",
       "    </tr>\n",
       "  </tbody>\n",
       "</table>\n",
       "</div>"
      ],
      "text/plain": [
       "          id  amount_tsh date_recorded                  funder  gps_height  \\\n",
       "1117   27733         0.0    2012-11-06  Government Of Tanzania           0   \n",
       "11037  29898         0.0    2011-03-17                  Danida        1673   \n",
       "51173  10430         0.0    2013-03-16                     NaN         964   \n",
       "38883  33487         0.0    2013-02-05                Wateraid           0   \n",
       "7353   34879         0.0    2011-04-04                     NaN           0   \n",
       "\n",
       "        installer  longitude  latitude        wpt_name  num_private  \\\n",
       "1117   Government  34.056143 -3.099558           Mange            0   \n",
       "11037         DWE  34.958578 -8.604219            none            0   \n",
       "51173         NaN  35.852224 -3.390573  Kwa Mama Lukaa            0   \n",
       "38883        SEMA  33.021590 -4.604464     Mwanhembo 1            0   \n",
       "7353          NaN  34.260957 -8.612772   Kwa Mwanyimbo            0   \n",
       "\n",
       "                 basin   subvillage     region  region_code  district_code  \\\n",
       "1117     Lake Victoria        Mbuga  Shinyanga           17              2   \n",
       "11037           Rufiji            M     Iringa           11              2   \n",
       "51173         Internal     Jangwani     Arusha            2              1   \n",
       "38883  Lake Tanganyika  Mwanhembo 1     Tabora           14              1   \n",
       "7353            Rufiji    Jitegemee      Mbeya           12              7   \n",
       "\n",
       "           lga            ward  population public_meeting  \\\n",
       "1117     Maswa         Ipililo           0           True   \n",
       "11037  Mufindi     Mbalamaziwa           0           True   \n",
       "51173  Monduli        Esilalei           1          False   \n",
       "38883    Nzega  Mwakanshashala           0          False   \n",
       "7353   Mbarali         Ubaruku           0           True   \n",
       "\n",
       "                   recorded_by scheme_management scheme_name permit  \\\n",
       "1117   GeoData Consultants Ltd               WUG         NaN  False   \n",
       "11037  GeoData Consultants Ltd               VWC         Mba   True   \n",
       "51173  GeoData Consultants Ltd               WUA           A    NaN   \n",
       "38883  GeoData Consultants Ltd               VWC         NaN   True   \n",
       "7353   GeoData Consultants Ltd               VWC         NaN   True   \n",
       "\n",
       "       construction_year extraction_type extraction_type_group  \\\n",
       "1117                   0          swn 80                swn 80   \n",
       "11037                  0         gravity               gravity   \n",
       "51173               2000         gravity               gravity   \n",
       "38883                  0         afridev               afridev   \n",
       "7353                   0         gravity               gravity   \n",
       "\n",
       "      extraction_type_class management management_group       payment  \\\n",
       "1117               handpump        wug       user-group         other   \n",
       "11037               gravity        vwc       user-group  pay annually   \n",
       "51173               gravity        wua       user-group     never pay   \n",
       "38883              handpump        vwc       user-group     never pay   \n",
       "7353                gravity        vwc       user-group     never pay   \n",
       "\n",
       "      payment_type water_quality quality_group      quantity quantity_group  \\\n",
       "1117         other          soft          good  insufficient   insufficient   \n",
       "11037     annually          soft          good        enough         enough   \n",
       "51173    never pay          soft          good        enough         enough   \n",
       "38883    never pay          soft          good        enough         enough   \n",
       "7353     never pay          soft          good      seasonal       seasonal   \n",
       "\n",
       "             source   source_type source_class     waterpoint_type  \\\n",
       "1117   shallow well  shallow well  groundwater           hand pump   \n",
       "11037        spring        spring  groundwater  communal standpipe   \n",
       "51173        spring        spring  groundwater  communal standpipe   \n",
       "38883   machine dbh      borehole  groundwater           hand pump   \n",
       "7353          river    river/lake      surface  communal standpipe   \n",
       "\n",
       "      waterpoint_type_group    status_group  \n",
       "1117              hand pump      functional  \n",
       "11037    communal standpipe      functional  \n",
       "51173    communal standpipe      functional  \n",
       "38883             hand pump  non functional  \n",
       "7353     communal standpipe  non functional  "
      ]
     },
     "execution_count": 13,
     "metadata": {},
     "output_type": "execute_result"
    }
   ],
   "source": [
    "df = data_feat.merge(data_labels, on=\"id\")\n",
    "df.sample(5)"
   ]
  },
  {
   "cell_type": "markdown",
   "metadata": {},
   "source": [
    "## Exploratory Data Analysis\n",
    "\n"
   ]
  },
  {
   "cell_type": "code",
   "execution_count": 14,
   "metadata": {
    "scrolled": true
   },
   "outputs": [
    {
     "name": "stdout",
     "output_type": "stream",
     "text": [
      "<class 'pandas.core.frame.DataFrame'>\n",
      "Int64Index: 59400 entries, 0 to 59399\n",
      "Data columns (total 41 columns):\n",
      "id                       59400 non-null int64\n",
      "amount_tsh               59400 non-null float64\n",
      "date_recorded            59400 non-null object\n",
      "funder                   55765 non-null object\n",
      "gps_height               59400 non-null int64\n",
      "installer                55745 non-null object\n",
      "longitude                59400 non-null float64\n",
      "latitude                 59400 non-null float64\n",
      "wpt_name                 59400 non-null object\n",
      "num_private              59400 non-null int64\n",
      "basin                    59400 non-null object\n",
      "subvillage               59029 non-null object\n",
      "region                   59400 non-null object\n",
      "region_code              59400 non-null int64\n",
      "district_code            59400 non-null int64\n",
      "lga                      59400 non-null object\n",
      "ward                     59400 non-null object\n",
      "population               59400 non-null int64\n",
      "public_meeting           56066 non-null object\n",
      "recorded_by              59400 non-null object\n",
      "scheme_management        55523 non-null object\n",
      "scheme_name              31234 non-null object\n",
      "permit                   56344 non-null object\n",
      "construction_year        59400 non-null int64\n",
      "extraction_type          59400 non-null object\n",
      "extraction_type_group    59400 non-null object\n",
      "extraction_type_class    59400 non-null object\n",
      "management               59400 non-null object\n",
      "management_group         59400 non-null object\n",
      "payment                  59400 non-null object\n",
      "payment_type             59400 non-null object\n",
      "water_quality            59400 non-null object\n",
      "quality_group            59400 non-null object\n",
      "quantity                 59400 non-null object\n",
      "quantity_group           59400 non-null object\n",
      "source                   59400 non-null object\n",
      "source_type              59400 non-null object\n",
      "source_class             59400 non-null object\n",
      "waterpoint_type          59400 non-null object\n",
      "waterpoint_type_group    59400 non-null object\n",
      "status_group             59400 non-null object\n",
      "dtypes: float64(3), int64(7), object(31)\n",
      "memory usage: 19.0+ MB\n"
     ]
    }
   ],
   "source": [
    "df.info(verbose=True, null_counts=True)"
   ]
  },
  {
   "cell_type": "markdown",
   "metadata": {},
   "source": [
    "The dataframe contains 41 columns and 59400 rows. There are null-values present in the following features:\n",
    "* funder (object)\n",
    "* installer (object)\n",
    "* subvillage (object)\n",
    "* public_meeting (object)\n",
    "* scheme_management (object)\n",
    "* scheme_name (object)\n",
    "* permit (object)\n",
    "\n",
    "All of the features share the same object data type and could indicate a human or equipment error. These features will require further investigation.\n",
    "\n",
    "The data types for all features are as follows:\n",
    "* 3 floats\n",
    "* 7 ints\n",
    "* 31 objects\n",
    "\n",
    "The target label is also an object which will slow down our ML models further down the line compared to a category data type. The many objects data types could potentially also be converted into ones that more accurately reflect the data."
   ]
  },
  {
   "cell_type": "code",
   "execution_count": 15,
   "metadata": {},
   "outputs": [
    {
     "name": "stdout",
     "output_type": "stream",
     "text": [
      "Percentage of cells with null-values: 1.9%\n"
     ]
    }
   ],
   "source": [
    "# pct of cells with missing values out of all cells\n",
    "total_cells = np.product(df.shape)\n",
    "total_missing_values = df.isnull().sum().sum()\n",
    "pct_missing = (total_missing_values / total_cells * 100)\n",
    "print(\"Percentage of cells with null-values: {0:.1f}%\".format(pct_missing))"
   ]
  },
  {
   "cell_type": "markdown",
   "metadata": {},
   "source": [
    "Around 2% of cells contain null-values. However, there may be more null-values but just represented as empty cells, \"N/A\" strings or something else completely. Let's investigate the values inside features we have already identified as containing null-values."
   ]
  },
  {
   "cell_type": "code",
   "execution_count": 16,
   "metadata": {
    "scrolled": true
   },
   "outputs": [
    {
     "data": {
      "text/plain": [
       "id                           0\n",
       "amount_tsh                   0\n",
       "date_recorded                0\n",
       "funder                    3635\n",
       "gps_height                   0\n",
       "installer                 3655\n",
       "longitude                    0\n",
       "latitude                     0\n",
       "wpt_name                     0\n",
       "num_private                  0\n",
       "basin                        0\n",
       "subvillage                 371\n",
       "region                       0\n",
       "region_code                  0\n",
       "district_code                0\n",
       "lga                          0\n",
       "ward                         0\n",
       "population                   0\n",
       "public_meeting            3334\n",
       "recorded_by                  0\n",
       "scheme_management         3877\n",
       "scheme_name              28166\n",
       "permit                    3056\n",
       "construction_year            0\n",
       "extraction_type              0\n",
       "extraction_type_group        0\n",
       "extraction_type_class        0\n",
       "management                   0\n",
       "management_group             0\n",
       "payment                      0\n",
       "payment_type                 0\n",
       "water_quality                0\n",
       "quality_group                0\n",
       "quantity                     0\n",
       "quantity_group               0\n",
       "source                       0\n",
       "source_type                  0\n",
       "source_class                 0\n",
       "waterpoint_type              0\n",
       "waterpoint_type_group        0\n",
       "status_group                 0\n",
       "dtype: int64"
      ]
     },
     "execution_count": 16,
     "metadata": {},
     "output_type": "execute_result"
    }
   ],
   "source": [
    "df.isnull().sum()"
   ]
  },
  {
   "cell_type": "markdown",
   "metadata": {},
   "source": [
    "### Exploring categorical features"
   ]
  },
  {
   "cell_type": "markdown",
   "metadata": {},
   "source": [
    "It appears that the largest concentration of null-values exist in scheme_name which represent who is operating the waterpoints. Perhaps this is indicative of many water pumps not being maintained nor in operation."
   ]
  },
  {
   "cell_type": "code",
   "execution_count": 17,
   "metadata": {
    "scrolled": true
   },
   "outputs": [
    {
     "name": "stdout",
     "output_type": "stream",
     "text": [
      "Funder contains 1898 unique entities that have funded wells in Tanzania.\n",
      "\n",
      "Count of each funder in the dataset:\n",
      "Government Of Tanzania         9084\n",
      "Danida                         3114\n",
      "Hesawa                         2202\n",
      "Rwssp                          1374\n",
      "World Bank                     1349\n",
      "Kkkt                           1287\n",
      "World Vision                   1246\n",
      "Unicef                         1057\n",
      "Tasaf                           877\n",
      "District Council                843\n",
      "Dhv                             829\n",
      "Private Individual              826\n",
      "Dwsp                            811\n",
      "0                               777\n",
      "Norad                           765\n",
      "Germany Republi                 610\n",
      "Tcrs                            602\n",
      "Ministry Of Water               590\n",
      "Water                           583\n",
      "Dwe                             484\n",
      "Netherlands                     470\n",
      "Hifab                           450\n",
      "Adb                             448\n",
      "Lga                             442\n",
      "Amref                           425\n",
      "Fini Water                      393\n",
      "Oxfam                           359\n",
      "Wateraid                        333\n",
      "Rc Church                       321\n",
      "Isf                             316\n",
      "                               ... \n",
      "Arab Community                    1\n",
      "Goldwill Foundation               1\n",
      "Muslim Society                    1\n",
      "Tquick Wings                      1\n",
      "Iucn                              1\n",
      "Jwtz                              1\n",
      "Rc/dwe                            1\n",
      "Safari Camp                       1\n",
      "Resolute Mininggolden Pride       1\n",
      "Bgssws                            1\n",
      "Private Co                        1\n",
      "Misheni                           1\n",
      "Toronto-estate                    1\n",
      "Mnyamisi Jumaa                    1\n",
      "Deogratius Kasima                 1\n",
      "Abdala                            1\n",
      "Aixos                             1\n",
      "Ballo                             1\n",
      "Incerto                           1\n",
      "Tacri                             1\n",
      "Tingatinga Sec School             1\n",
      "Mama Ku                           1\n",
      "Noeli Mahobokela                  1\n",
      "Babtest                           1\n",
      "Mzee Mkungata                     1\n",
      "Mzee Yassin Naya                  1\n",
      "Birage                            1\n",
      "Tag Church Ub                     1\n",
      "Pentecosta Seela                  1\n",
      "Rarymond Ekura                    1\n",
      "Name: funder, Length: 1897, dtype: int64\n"
     ]
    }
   ],
   "source": [
    "print(\"Funder contains {} unique entities that have funded wells in Tanzania.\".format(len(df.funder.unique())))\n",
    "print(\"\\nCount of each funder in the dataset:\\n{}\".format(df.funder.value_counts()))"
   ]
  },
  {
   "cell_type": "markdown",
   "metadata": {},
   "source": [
    "Notice there are 777 observations of \"0\" likely to represent a null-value. This is in addition to the null-values and would need to be cleaned in the data cleaning section."
   ]
  },
  {
   "cell_type": "code",
   "execution_count": 18,
   "metadata": {
    "scrolled": true
   },
   "outputs": [
    {
     "name": "stdout",
     "output_type": "stream",
     "text": [
      "Installer contains 2146 unique entities with the name of the organisation that installed the well.\n",
      "\n",
      "Count of each installer in the dataset:\n",
      "DWE                               17402\n",
      "Government                         1825\n",
      "RWE                                1206\n",
      "Commu                              1060\n",
      "DANIDA                             1050\n",
      "KKKT                                898\n",
      "Hesawa                              840\n",
      "0                                   777\n",
      "TCRS                                707\n",
      "Central government                  622\n",
      "CES                                 610\n",
      "Community                           553\n",
      "DANID                               552\n",
      "District Council                    551\n",
      "HESAWA                              539\n",
      "LGA                                 408\n",
      "World vision                        408\n",
      "WEDECO                              397\n",
      "TASAF                               396\n",
      "District council                    392\n",
      "Gover                               383\n",
      "AMREF                               329\n",
      "TWESA                               316\n",
      "WU                                  301\n",
      "Dmdd                                287\n",
      "ACRA                                278\n",
      "World Vision                        270\n",
      "SEMA                                249\n",
      "DW                                  246\n",
      "OXFAM                               234\n",
      "                                  ...  \n",
      "Jumuhia                               1\n",
      "MASWI DRILLING CO. LTD                1\n",
      "Said Omari                            1\n",
      "TASSAF/TCRS                           1\n",
      "Member of Perliament Ahmed Ali        1\n",
      "ANGLIKANA CHURCH                      1\n",
      "Hesewa                                1\n",
      "USA EMBASSY                           1\n",
      "Hilfe Fur Bruder                      1\n",
      "UN Habitat                            1\n",
      "LWI &CENTRAL GOVERNMENT               1\n",
      "DWW                                   1\n",
      "British                               1\n",
      "Mgaya Mwita                           1\n",
      "CHRISTAN OUTRICH                      1\n",
      "DANIDA CO                             1\n",
      "CF Builders                           1\n",
      "Mwl. Nyerere sec.school               1\n",
      "Kalitesi                              1\n",
      "Staford Higima                        1\n",
      "VC                                    1\n",
      "Wahidi                                1\n",
      "VITECOS INVEST                        1\n",
      "Mketo                                 1\n",
      "Atlas                                 1\n",
      "WW                                    1\n",
      "O                                     1\n",
      "Frida mokeki                          1\n",
      "Private individuals                   1\n",
      "SAIDI CO                              1\n",
      "Name: installer, Length: 2145, dtype: int64\n"
     ]
    }
   ],
   "source": [
    "print(\"Installer contains {} unique entities with the name of the organisation that installed the well.\".format(len(df.installer.unique())))\n",
    "print(\"\\nCount of each installer in the dataset:\\n{}\".format(df.installer.value_counts()))"
   ]
  },
  {
   "cell_type": "markdown",
   "metadata": {},
   "source": [
    "Again, we have 777 counts of \"0\" highly likely showing that for wells where funder is missing installer also is missing."
   ]
  },
  {
   "cell_type": "code",
   "execution_count": 19,
   "metadata": {
    "scrolled": true
   },
   "outputs": [
    {
     "name": "stdout",
     "output_type": "stream",
     "text": [
      "Subvillage contains 19288 unique entities with the geographic location of the wells.\n",
      "\n",
      "Count of each subvillage in the dataset:\n",
      "Madukani         508\n",
      "Shuleni          506\n",
      "Majengo          502\n",
      "Kati             373\n",
      "Mtakuja          262\n",
      "Sokoni           232\n",
      "M                187\n",
      "Muungano         172\n",
      "Mbuyuni          164\n",
      "Mlimani          152\n",
      "Songambele       147\n",
      "Msikitini        134\n",
      "Miembeni         134\n",
      "1                132\n",
      "Kibaoni          114\n",
      "Kanisani         111\n",
      "Mapinduzi        109\n",
      "I                109\n",
      "Mjini            108\n",
      "Mjimwema         108\n",
      "Mkwajuni         104\n",
      "Mwenge           102\n",
      "Azimio            98\n",
      "Mabatini          98\n",
      "Mission           95\n",
      "Mbugani           95\n",
      "Bwawani           91\n",
      "Bondeni           90\n",
      "Chang'Ombe        88\n",
      "Zahanati          86\n",
      "                ... \n",
      "Sosoleka           1\n",
      "Ilemela            1\n",
      "Kwa Mkondo         1\n",
      "Lugukwa            1\n",
      "Mwiji C            1\n",
      "Utinta B           1\n",
      "Izimba             1\n",
      "Knisani            1\n",
      "42                 1\n",
      "Usawini            1\n",
      "Mukasenga          1\n",
      "Uswakala B         1\n",
      "Nyakasimba         1\n",
      "Mgomol             1\n",
      "Kibwendeisiza      1\n",
      "Nagilongos         1\n",
      "Usia               1\n",
      "Kaulungu           1\n",
      "Mnili              1\n",
      "Lugunga B          1\n",
      "Osmeni             1\n",
      "Nyarwanga          1\n",
      "Roadtall           1\n",
      "Kirurumo           1\n",
      "Nyakasanza         1\n",
      "Silimka            1\n",
      "Kihunzi            1\n",
      "Mwakibuga          1\n",
      "Sie                1\n",
      "Italinono          1\n",
      "Name: subvillage, Length: 19287, dtype: int64\n"
     ]
    }
   ],
   "source": [
    "print(\"Subvillage contains {} unique entities with the geographic location of the wells.\".format(len(df.subvillage.unique())))\n",
    "print(\"\\nCount of each subvillage in the dataset:\\n{}\".format(df.subvillage.value_counts()))"
   ]
  },
  {
   "cell_type": "markdown",
   "metadata": {},
   "source": [
    "The values \"M\", \"1\" and \"I\" appear to be null-values but required further analysis before we can determine they truly are missing values or incorrectly entered values due to human error."
   ]
  },
  {
   "cell_type": "code",
   "execution_count": 20,
   "metadata": {},
   "outputs": [
    {
     "name": "stdout",
     "output_type": "stream",
     "text": [
      "Public_meeting contains 3 unique entities evaluating to either True/False or null-value.\n",
      "\n",
      "Count of each public_meeting in the dataset:\n",
      "True     51011\n",
      "False     5055\n",
      "Name: public_meeting, dtype: int64\n"
     ]
    }
   ],
   "source": [
    "print(\"Public_meeting contains {} unique entities evaluating to either True/False or null-value.\".format(len(df.public_meeting.unique())))\n",
    "print(\"\\nCount of each public_meeting in the dataset:\\n{}\".format(df.public_meeting.value_counts()))"
   ]
  },
  {
   "cell_type": "code",
   "execution_count": 21,
   "metadata": {},
   "outputs": [
    {
     "data": {
      "image/png": "[encoded data removed]",
      "text/plain": [
       "<Figure size 432x288 with 1 Axes>"
      ]
     },
     "metadata": {
      "needs_background": "light"
     },
     "output_type": "display_data"
    }
   ],
   "source": [
    "sns.countplot(data=df, x='public_meeting', hue='status_group')\n",
    "sns.set(rc={'figure.figsize':(11.7,8.27)})"
   ]
  },
  {
   "cell_type": "markdown",
   "metadata": {},
   "source": [
    "It is not clear what public_meeting represents beyond true/false values but there are many more waterpoints that are functional or non-functional that evaluate to True in public_meeting."
   ]
  },
  {
   "cell_type": "code",
   "execution_count": 22,
   "metadata": {},
   "outputs": [
    {
     "name": "stdout",
     "output_type": "stream",
     "text": [
      "Scheme_management contains 13 unique entities with the names of who operates the waterpoints.\n",
      "\n",
      "Count of each scheme_management in the dataset:\n",
      "VWC                 36793\n",
      "WUG                  5206\n",
      "Water authority      3153\n",
      "WUA                  2883\n",
      "Water Board          2748\n",
      "Parastatal           1680\n",
      "Private operator     1063\n",
      "Company              1061\n",
      "Other                 766\n",
      "SWC                    97\n",
      "Trust                  72\n",
      "None                    1\n",
      "Name: scheme_management, dtype: int64\n"
     ]
    }
   ],
   "source": [
    "print(\"Scheme_management contains {} unique entities with the names of who operates the waterpoints.\".format(len(df.scheme_management.unique())))\n",
    "print(\"\\nCount of each scheme_management in the dataset:\\n{}\".format(df.scheme_management.value_counts()))"
   ]
  },
  {
   "cell_type": "code",
   "execution_count": 23,
   "metadata": {},
   "outputs": [
    {
     "data": {
      "image/png": "[encoded data removed]",
      "text/plain": [
       "<Figure size 842.4x595.44 with 1 Axes>"
      ]
     },
     "metadata": {},
     "output_type": "display_data"
    }
   ],
   "source": [
    "sns.countplot(data=df, x='scheme_management', hue='status_group')\n",
    "sns.set(rc={'figure.figsize':(11.7,8.27)})"
   ]
  },
  {
   "cell_type": "markdown",
   "metadata": {},
   "source": [
    "While scheme_management and scheme_name appear to have the same column description their values are not identical."
   ]
  },
  {
   "cell_type": "code",
   "execution_count": 24,
   "metadata": {
    "scrolled": true
   },
   "outputs": [
    {
     "name": "stdout",
     "output_type": "stream",
     "text": [
      "Scheme_name contains 2697 unique entities with the names of who operates the waterpoints.\n",
      "\n",
      "Count of each scheme_name in the dataset:\n",
      "K                                        682\n",
      "None                                     644\n",
      "Borehole                                 546\n",
      "Chalinze wate                            405\n",
      "M                                        400\n",
      "DANIDA                                   379\n",
      "Government                               320\n",
      "Ngana water supplied scheme              270\n",
      "wanging'ombe water supply s              261\n",
      "wanging'ombe supply scheme               234\n",
      "Bagamoyo wate                            229\n",
      "I                                        229\n",
      "Uroki-Bomang'ombe water sup              209\n",
      "N                                        204\n",
      "Kirua kahe gravity water supply trust    193\n",
      "Machumba estate pipe line                185\n",
      "Makwale water supplied sche              166\n",
      "Kijiji                                   161\n",
      "S                                        154\n",
      "Losaa-Kia water supply                   152\n",
      "Handeni Trunk Main(H                     152\n",
      "mtwango water supply scheme              152\n",
      "Mkongoro Two                             147\n",
      "Roman                                    139\n",
      "Mkongoro One                             128\n",
      "Maambreni gravity water supply           125\n",
      "Lyamungo umbwe water supply              120\n",
      "Kirua kahe pumping water trust           113\n",
      "Ki                                       107\n",
      "Nabaiye pipe line                        107\n",
      "                                        ... \n",
      "BL Kandashi                                1\n",
      "Mafuriko  Water Supp                       1\n",
      "fini water                                 1\n",
      "Kisa                                       1\n",
      "Chikombo water supply                      1\n",
      "Kubi                                       1\n",
      "WD                                         1\n",
      "Mtunguruzi                                 1\n",
      "Chajo Water Supply                         1\n",
      "AIC kahunda                                1\n",
      "Kiurio Bendera water supply                1\n",
      "Mchangani                                  1\n",
      "BL Nkenku kijijini                         1\n",
      "Chemchem ya Wamweru                        1\n",
      "Tamp                                       1\n",
      "Shimassawe branch line                     1\n",
      "BL Moniko shule                            1\n",
      "BL Kilimasimba                             1\n",
      "Jongom                                     1\n",
      "Nzera                                      1\n",
      "Magoto piped  water suplly                 1\n",
      "Ntyu                                       1\n",
      "Madamane                                   1\n",
      "Ofisini chini                              1\n",
      "Heshivu water supply                       1\n",
      "BL Majengo                                 1\n",
      "BL Kijiweni                                1\n",
      "Mradi wa maji wa Maposeni                  1\n",
      "Mfinga Water Supply                        1\n",
      "Kaduma water supply                        1\n",
      "Name: scheme_name, Length: 2696, dtype: int64\n"
     ]
    }
   ],
   "source": [
    "print(\"Scheme_name contains {} unique entities with the names of who operates the waterpoints.\".format(len(df.scheme_name.unique())))\n",
    "print(\"\\nCount of each scheme_name in the dataset:\\n{}\".format(df.scheme_name.value_counts()))"
   ]
  },
  {
   "cell_type": "code",
   "execution_count": 25,
   "metadata": {},
   "outputs": [
    {
     "name": "stdout",
     "output_type": "stream",
     "text": [
      "Permit contains 3 unique entities indicating whether waterpoints had permits\n",
      "\n",
      "Count of each permit in the dataset:\n",
      "True     38852\n",
      "False    17492\n",
      "Name: permit, dtype: int64\n"
     ]
    }
   ],
   "source": [
    "print(\"Permit contains {} unique entities indicating whether waterpoints had permits\".format(len(df.permit.unique())))\n",
    "print(\"\\nCount of each permit in the dataset:\\n{}\".format(df.permit.value_counts()))"
   ]
  },
  {
   "cell_type": "code",
   "execution_count": 26,
   "metadata": {},
   "outputs": [
    {
     "data": {
      "image/png": "[encoded data removed]",
      "text/plain": [
       "<Figure size 842.4x595.44 with 1 Axes>"
      ]
     },
     "metadata": {},
     "output_type": "display_data"
    }
   ],
   "source": [
    "sns.countplot(data=df, x='permit', hue='status_group')\n",
    "sns.set(rc={'figure.figsize':(11.7,8.27)})"
   ]
  },
  {
   "cell_type": "markdown",
   "metadata": {},
   "source": [
    "The net amount of waterpoints that are functional, non-functional and functional but needs repair are around twice as high for waterpoints that have a permit compared to those that don't. This means we have more data on waterpoints with a permit than those without."
   ]
  },
  {
   "cell_type": "markdown",
   "metadata": {},
   "source": [
    "### Exploring numerical features"
   ]
  },
  {
   "cell_type": "markdown",
   "metadata": {},
   "source": [
    "Let's now explore the numerical features (dtypes ints and floats). They are as follows:\n",
    "* amount_tsh (amount of water available to the waterpoint)\n",
    "* gps_height (altitude of the well)\n",
    "* longtitude (GPS coordinate)\n",
    "* latitude (GPS coordinate)\n",
    "* num_private (unknown)\n",
    "* region_code (geographic location)\n",
    "* district_code (geographic location)\n",
    "* population (population around a well)\n",
    "* construction_year (year the well was constructed)"
   ]
  },
  {
   "cell_type": "markdown",
   "metadata": {},
   "source": [
    "The amount of water available to a waterpoint could be a proxy for how much a well is used and therefore could be closely correlated with the target labels we are trying to predict."
   ]
  },
  {
   "cell_type": "code",
   "execution_count": 27,
   "metadata": {
    "scrolled": true
   },
   "outputs": [
    {
     "name": "stdout",
     "output_type": "stream",
     "text": [
      "Amount of water available to the water point values range from 0.0 to 350000.0\n",
      "Amount of water available distribution of values:  0.00         41639\n",
      "500.00        3102\n",
      "50.00         2472\n",
      "1000.00       1488\n",
      "20.00         1463\n",
      "200.00        1220\n",
      "100.00         816\n",
      "10.00          806\n",
      "30.00          743\n",
      "2000.00        704\n",
      "250.00         569\n",
      "300.00         557\n",
      "5000.00        450\n",
      "5.00           376\n",
      "25.00          356\n",
      "3000.00        334\n",
      "1200.00        267\n",
      "1500.00        197\n",
      "6.00           190\n",
      "600.00         176\n",
      "4000.00        156\n",
      "2400.00        145\n",
      "2500.00        139\n",
      "6000.00        125\n",
      "7.00            69\n",
      "8000.00         61\n",
      "750.00          59\n",
      "40.00           59\n",
      "10000.00        57\n",
      "12000.00        51\n",
      "             ...  \n",
      "16000.00         2\n",
      "16300.00         2\n",
      "800.00           2\n",
      "11000.00         2\n",
      "590.00           2\n",
      "520.00           2\n",
      "26000.00         2\n",
      "13000.00         2\n",
      "9.00             1\n",
      "170000.00        1\n",
      "200000.00        1\n",
      "900.00           1\n",
      "0.25             1\n",
      "53.00            1\n",
      "350000.00        1\n",
      "306.00           1\n",
      "120000.00        1\n",
      "26.00            1\n",
      "59.00            1\n",
      "60000.00         1\n",
      "5400.00          1\n",
      "70000.00         1\n",
      "250000.00        1\n",
      "38000.00         1\n",
      "1400.00          1\n",
      "8500.00          1\n",
      "6300.00          1\n",
      "220.00           1\n",
      "138000.00        1\n",
      "12.00            1\n",
      "Name: amount_tsh, Length: 98, dtype: int64\n"
     ]
    },
    {
     "name": "stderr",
     "output_type": "stream",
     "text": [
      "/Users/ammarjawaddoosh/anaconda3/lib/python3.6/site-packages/scipy/stats/stats.py:1713: FutureWarning: Using a non-tuple sequence for multidimensional indexing is deprecated; use `arr[tuple(seq)]` instead of `arr[seq]`. In the future this will be interpreted as an array index, `arr[np.array(seq)]`, which will result either in an error or a different result.\n",
      "  return np.add.reduce(sorted[indexer] * weights, axis=axis) / sumval\n"
     ]
    },
    {
     "data": {
      "text/plain": [
       "<matplotlib.axes._subplots.AxesSubplot at 0x1a20685e10>"
      ]
     },
     "execution_count": 27,
     "metadata": {},
     "output_type": "execute_result"
    },
    {
     "data": {
      "image/png": "[encoded data removed]",
      "text/plain": [
       "<Figure size 842.4x595.44 with 1 Axes>"
      ]
     },
     "metadata": {},
     "output_type": "display_data"
    }
   ],
   "source": [
    "print(\"Amount of water available to the water point values range from {} to {}\".format(df.amount_tsh.min(), df.amount_tsh.max()))\n",
    "print(\"Amount of water available distribution of values: \", df.amount_tsh.value_counts())\n",
    "sns.distplot(df.amount_tsh, hist=False, rug=True, bins=50)"
   ]
  },
  {
   "cell_type": "markdown",
   "metadata": {},
   "source": [
    "Most of the values in \"amount_tsh\" range between 0 and 3,000 which means that the water available to pumps is in the lower end of the range through Tanzania."
   ]
  },
  {
   "cell_type": "code",
   "execution_count": 28,
   "metadata": {
    "scrolled": true
   },
   "outputs": [
    {
     "name": "stdout",
     "output_type": "stream",
     "text": [
      "Population values range from 0 to 30500\n",
      "Distribution of Populationalue counts:  0       21381\n",
      "1        7025\n",
      "200      1940\n",
      "150      1892\n",
      "250      1681\n",
      "300      1476\n",
      "100      1146\n",
      "50       1139\n",
      "500      1009\n",
      "350       986\n",
      "120       916\n",
      "400       775\n",
      "60        706\n",
      "30        626\n",
      "40        552\n",
      "80        533\n",
      "450       499\n",
      "20        462\n",
      "600       438\n",
      "230       388\n",
      "75        289\n",
      "1000      278\n",
      "800       269\n",
      "90        265\n",
      "130       264\n",
      "25        255\n",
      "320       249\n",
      "35        245\n",
      "360       222\n",
      "140       215\n",
      "        ...  \n",
      "8848        1\n",
      "628         1\n",
      "4520        1\n",
      "468         1\n",
      "693         1\n",
      "725         1\n",
      "789         1\n",
      "821         1\n",
      "5300        1\n",
      "3127        1\n",
      "2345        1\n",
      "3031        1\n",
      "886         1\n",
      "392         1\n",
      "424         1\n",
      "2807        1\n",
      "726         1\n",
      "694         1\n",
      "2569        1\n",
      "4788        1\n",
      "662         1\n",
      "4660        1\n",
      "406         1\n",
      "1032        1\n",
      "1160        1\n",
      "3241        1\n",
      "1960        1\n",
      "1685        1\n",
      "2248        1\n",
      "1439        1\n",
      "Name: population, Length: 1049, dtype: int64\n"
     ]
    },
    {
     "name": "stderr",
     "output_type": "stream",
     "text": [
      "/Users/ammarjawaddoosh/anaconda3/lib/python3.6/site-packages/scipy/stats/stats.py:1713: FutureWarning: Using a non-tuple sequence for multidimensional indexing is deprecated; use `arr[tuple(seq)]` instead of `arr[seq]`. In the future this will be interpreted as an array index, `arr[np.array(seq)]`, which will result either in an error or a different result.\n",
      "  return np.add.reduce(sorted[indexer] * weights, axis=axis) / sumval\n"
     ]
    },
    {
     "data": {
      "text/plain": [
       "<matplotlib.axes._subplots.AxesSubplot at 0x1a21309940>"
      ]
     },
     "execution_count": 28,
     "metadata": {},
     "output_type": "execute_result"
    },
    {
     "data": {
      "image/png": "[encoded data removed]",
      "text/plain": [
       "<Figure size 842.4x595.44 with 1 Axes>"
      ]
     },
     "metadata": {},
     "output_type": "display_data"
    }
   ],
   "source": [
    "print(\"Population values range from {} to {}\".format(df.population.min(), df.population.max()))\n",
    "print(\"Distribution of Populationalue counts: \", df.population.value_counts())\n",
    "sns.distplot(df.population, hist=False, rug=True, bins=50)\n"
   ]
  },
  {
   "cell_type": "markdown",
   "metadata": {},
   "source": [
    "It is clear that \"population\" is skewed right (positive) with the highest count of populations between 1 nd 5,000 thus indicating we are dealing with extremely small communities around these waterpoints. There are a few population sizes above 30,000 as well. The distplot above indicates that values greater than 10,000 are likely outliers and will need to be cleaned pre-modelling."
   ]
  },
  {
   "cell_type": "code",
   "execution_count": 29,
   "metadata": {},
   "outputs": [
    {
     "data": {
      "text/html": [
       "<div>\n",
       "<style scoped>\n",
       "    .dataframe tbody tr th:only-of-type {\n",
       "        vertical-align: middle;\n",
       "    }\n",
       "\n",
       "    .dataframe tbody tr th {\n",
       "        vertical-align: top;\n",
       "    }\n",
       "\n",
       "    .dataframe thead th {\n",
       "        text-align: right;\n",
       "    }\n",
       "</style>\n",
       "<table border=\"1\" class=\"dataframe\">\n",
       "  <thead>\n",
       "    <tr style=\"text-align: right;\">\n",
       "      <th></th>\n",
       "      <th>population</th>\n",
       "      <th>amount_tsh</th>\n",
       "    </tr>\n",
       "  </thead>\n",
       "  <tbody>\n",
       "    <tr>\n",
       "      <th>population</th>\n",
       "      <td>1.000000</td>\n",
       "      <td>0.016288</td>\n",
       "    </tr>\n",
       "    <tr>\n",
       "      <th>amount_tsh</th>\n",
       "      <td>0.016288</td>\n",
       "      <td>1.000000</td>\n",
       "    </tr>\n",
       "  </tbody>\n",
       "</table>\n",
       "</div>"
      ],
      "text/plain": [
       "            population  amount_tsh\n",
       "population    1.000000    0.016288\n",
       "amount_tsh    0.016288    1.000000"
      ]
     },
     "execution_count": 29,
     "metadata": {},
     "output_type": "execute_result"
    }
   ],
   "source": [
    "df[['population', 'amount_tsh']].corr()"
   ]
  },
  {
   "cell_type": "markdown",
   "metadata": {},
   "source": [
    "Although the distribution of values for both amount_tsh and population look similar they are not at all closely correlated."
   ]
  },
  {
   "cell_type": "markdown",
   "metadata": {},
   "source": [
    "### Exploring target labels"
   ]
  },
  {
   "cell_type": "code",
   "execution_count": 30,
   "metadata": {},
   "outputs": [
    {
     "data": {
      "text/plain": [
       "<matplotlib.axes._subplots.AxesSubplot at 0x1a20210438>"
      ]
     },
     "execution_count": 30,
     "metadata": {},
     "output_type": "execute_result"
    },
    {
     "data": {
      "image/png": "[encoded data removed]",
      "text/plain": [
       "<Figure size 842.4x595.44 with 1 Axes>"
      ]
     },
     "metadata": {},
     "output_type": "display_data"
    }
   ],
   "source": [
    "sns.countplot(data=df, x=\"status_group\", palette=\"Paired\")\n"
   ]
  },
  {
   "cell_type": "code",
   "execution_count": 31,
   "metadata": {},
   "outputs": [
    {
     "data": {
      "text/plain": [
       "functional                 0.543081\n",
       "non functional             0.384242\n",
       "functional needs repair    0.072677\n",
       "Name: status_group, dtype: float64"
      ]
     },
     "execution_count": 31,
     "metadata": {},
     "output_type": "execute_result"
    }
   ],
   "source": [
    "labels_count = df.status_group.value_counts()\n",
    "total_labels = df.status_group.count()\n",
    "(labels_count/total_labels)"
   ]
  },
  {
   "cell_type": "markdown",
   "metadata": {},
   "source": [
    "The target label \"functional\" accounts for 54% of all labels in the dataset, and \"non-functional\" for 38%. The only significantly imbalanced class is \"functional needs repair\" which only accounts for 7% of the data."
   ]
  },
  {
   "cell_type": "markdown",
   "metadata": {},
   "source": [
    "### Correlations"
   ]
  },
  {
   "cell_type": "code",
   "execution_count": 32,
   "metadata": {},
   "outputs": [
    {
     "data": {
      "text/plain": [
       "<matplotlib.axes._subplots.AxesSubplot at 0x1a2a84a6a0>"
      ]
     },
     "execution_count": 32,
     "metadata": {},
     "output_type": "execute_result"
    },
    {
     "data": {
      "image/png": "[encoded data removed]",
      "text/plain": [
       "<Figure size 842.4x595.44 with 2 Axes>"
      ]
     },
     "metadata": {},
     "output_type": "display_data"
    }
   ],
   "source": [
    "sns.heatmap(df.corr(), square=True, cmap='RdYlGn')"
   ]
  },
  {
   "cell_type": "markdown",
   "metadata": {},
   "source": [
    "The heatmap shows \"construction_year\" and \"gps_height\" have a strong positive correlation. Likewise with \"district_code\" and \"region_code\". This indicates that we can potentially drop 2 features whereby reducing the dimensions used to train our model making it simpler and less prone to overfitting. This is due to the fact that when we have two correlated features one feature will explain the variance already and the other is not needed."
   ]
  },
  {
   "cell_type": "code",
   "execution_count": 33,
   "metadata": {},
   "outputs": [
    {
     "name": "stdout",
     "output_type": "stream",
     "text": [
      "Latitude values range from -11.64944018 to -2e-08.\n"
     ]
    },
    {
     "data": {
      "text/plain": [
       "<matplotlib.axes._subplots.AxesSubplot at 0x1a2ae8f5f8>"
      ]
     },
     "execution_count": 33,
     "metadata": {},
     "output_type": "execute_result"
    },
    {
     "data": {
      "image/png": "[encoded data removed]",
      "text/plain": [
       "<Figure size 842.4x595.44 with 1 Axes>"
      ]
     },
     "metadata": {},
     "output_type": "display_data"
    }
   ],
   "source": [
    "print(\"Latitude values range from {} to {}.\".format(df.latitude.min(), df.latitude.max()))\n",
    "sns.distplot(df.latitude, kde=False, bins=50, label=\"Distribution of waterpoints by Latitude\")"
   ]
  },
  {
   "cell_type": "code",
   "execution_count": 34,
   "metadata": {},
   "outputs": [
    {
     "name": "stdout",
     "output_type": "stream",
     "text": [
      "Longitude values range from 0.0 to 40.34519307.\n"
     ]
    },
    {
     "data": {
      "text/plain": [
       "<matplotlib.axes._subplots.AxesSubplot at 0x1a2b0f4358>"
      ]
     },
     "execution_count": 34,
     "metadata": {},
     "output_type": "execute_result"
    },
    {
     "data": {
      "image/png": "[encoded data removed]",
      "text/plain": [
       "<Figure size 842.4x595.44 with 1 Axes>"
      ]
     },
     "metadata": {},
     "output_type": "display_data"
    }
   ],
   "source": [
    "print(\"Longitude values range from {} to {}.\".format(df.longitude.min(), df.longitude.max()))\n",
    "sns.distplot(df.longitude, kde=False, bins=50, label=\"Distribution of waterpoints by Longitude\")"
   ]
  },
  {
   "cell_type": "code",
   "execution_count": 35,
   "metadata": {},
   "outputs": [
    {
     "name": "stdout",
     "output_type": "stream",
     "text": [
      "Distribution of longitude:  0.000000     1812\n",
      "37.540901       2\n",
      "33.010510       2\n",
      "39.093484       2\n",
      "32.972719       2\n",
      "33.006275       2\n",
      "39.103950       2\n",
      "37.542785       2\n",
      "36.802490       2\n",
      "39.098374       2\n",
      "33.090347       2\n",
      "33.005032       2\n",
      "32.978062       2\n",
      "39.088875       2\n",
      "31.619530       2\n",
      "39.093095       2\n",
      "39.105307       2\n",
      "32.936689       2\n",
      "32.987511       2\n",
      "39.090880       2\n",
      "37.314250       2\n",
      "32.984790       2\n",
      "39.091434       2\n",
      "37.274352       2\n",
      "32.919861       2\n",
      "37.530515       2\n",
      "32.955597       2\n",
      "39.098514       2\n",
      "32.988560       2\n",
      "32.987670       2\n",
      "             ... \n",
      "36.831815       1\n",
      "31.530352       1\n",
      "35.455622       1\n",
      "37.672581       1\n",
      "29.964104       1\n",
      "34.862237       1\n",
      "37.663466       1\n",
      "37.128824       1\n",
      "38.766058       1\n",
      "38.710520       1\n",
      "40.117029       1\n",
      "34.672962       1\n",
      "39.433604       1\n",
      "35.901580       1\n",
      "37.532216       1\n",
      "35.790038       1\n",
      "33.926958       1\n",
      "37.371204       1\n",
      "33.494134       1\n",
      "34.462228       1\n",
      "36.658880       1\n",
      "33.877577       1\n",
      "38.579468       1\n",
      "31.715232       1\n",
      "36.871976       1\n",
      "37.579803       1\n",
      "33.196490       1\n",
      "34.017119       1\n",
      "33.788326       1\n",
      "30.163579       1\n",
      "Name: longitude, Length: 57516, dtype: int64\n"
     ]
    }
   ],
   "source": [
    "print (\"Distribution of longitude: \", df.longitude.value_counts())"
   ]
  },
  {
   "cell_type": "markdown",
   "metadata": {},
   "source": [
    "The above visualisation for lat/long shows a negative left skew for longitude which means the data we have for water points are closer to each other horizontally but much more spread vertically. This is bit of information can prove to be interesting once we visualise the datapoints as a scatter plot on a Tanzanian map with the multiclass labels as hue to visualise whether there is a pattern for functional vs. broken down waterpoints.\n",
    "\n",
    "It is also worth treating the outliers for longitude of 0.0 as they appear to be a clerical error. When plotted against a map it is south of the coast of Ghana."
   ]
  },
  {
   "cell_type": "code",
   "execution_count": 36,
   "metadata": {},
   "outputs": [],
   "source": [
    "# Changing dtypes to floats instead of int64\n",
    "df['latitude'] = df['latitude'].astype(float)\n",
    "df['longitude'] = df['longitude'].astype(float)"
   ]
  },
  {
   "cell_type": "code",
   "execution_count": 37,
   "metadata": {},
   "outputs": [],
   "source": [
    "### PLACEHOLDER FOR BASEMAP VIZ ###"
   ]
  },
  {
   "cell_type": "code",
   "execution_count": 38,
   "metadata": {},
   "outputs": [
    {
     "name": "stderr",
     "output_type": "stream",
     "text": [
      "/Users/ammarjawaddoosh/anaconda3/lib/python3.6/site-packages/scipy/stats/stats.py:1713: FutureWarning: Using a non-tuple sequence for multidimensional indexing is deprecated; use `arr[tuple(seq)]` instead of `arr[seq]`. In the future this will be interpreted as an array index, `arr[np.array(seq)]`, which will result either in an error or a different result.\n",
      "  return np.add.reduce(sorted[indexer] * weights, axis=axis) / sumval\n"
     ]
    },
    {
     "data": {
      "text/plain": [
       "<matplotlib.axes._subplots.AxesSubplot at 0x1a248b5978>"
      ]
     },
     "execution_count": 38,
     "metadata": {},
     "output_type": "execute_result"
    },
    {
     "data": {
      "image/png": "[encoded data removed]",
      "text/plain": [
       "<Figure size 842.4x595.44 with 1 Axes>"
      ]
     },
     "metadata": {},
     "output_type": "display_data"
    }
   ],
   "source": [
    "sns.distplot(df['construction_year'],  hist=False,\n",
    "             rug=True,\n",
    "             kde_kws={'shade':True})"
   ]
  },
  {
   "cell_type": "markdown",
   "metadata": {},
   "source": [
    "Missing values in construction_year are likely assigned as 0 and need to be cleaned. "
   ]
  },
  {
   "cell_type": "code",
   "execution_count": 39,
   "metadata": {},
   "outputs": [],
   "source": [
    "# Replacing 0 with np.nan in construction_year\n",
    "df.construction_year.replace(0, np.nan, inplace=True)"
   ]
  },
  {
   "cell_type": "code",
   "execution_count": 40,
   "metadata": {},
   "outputs": [
    {
     "name": "stderr",
     "output_type": "stream",
     "text": [
      "/Users/ammarjawaddoosh/anaconda3/lib/python3.6/site-packages/statsmodels/nonparametric/kde.py:448: RuntimeWarning: invalid value encountered in greater\n",
      "  X = X[np.logical_and(X > clip[0], X < clip[1])] # won't work for two columns.\n",
      "/Users/ammarjawaddoosh/anaconda3/lib/python3.6/site-packages/statsmodels/nonparametric/kde.py:448: RuntimeWarning: invalid value encountered in less\n",
      "  X = X[np.logical_and(X > clip[0], X < clip[1])] # won't work for two columns.\n",
      "/Users/ammarjawaddoosh/anaconda3/lib/python3.6/site-packages/scipy/stats/stats.py:1713: FutureWarning: Using a non-tuple sequence for multidimensional indexing is deprecated; use `arr[tuple(seq)]` instead of `arr[seq]`. In the future this will be interpreted as an array index, `arr[np.array(seq)]`, which will result either in an error or a different result.\n",
      "  return np.add.reduce(sorted[indexer] * weights, axis=axis) / sumval\n"
     ]
    },
    {
     "data": {
      "text/plain": [
       "<matplotlib.axes._subplots.AxesSubplot at 0x1a2d749be0>"
      ]
     },
     "execution_count": 40,
     "metadata": {},
     "output_type": "execute_result"
    },
    {
     "data": {
      "image/png": "[encoded data removed]",
      "text/plain": [
       "<Figure size 842.4x595.44 with 1 Axes>"
      ]
     },
     "metadata": {},
     "output_type": "display_data"
    }
   ],
   "source": [
    "sns.distplot(df.construction_year,  hist=False,\n",
    "             rug=True,\n",
    "             kde_kws={'shade':True})"
   ]
  },
  {
   "cell_type": "markdown",
   "metadata": {},
   "source": [
    "## Data Preprocessing"
   ]
  },
  {
   "cell_type": "markdown",
   "metadata": {},
   "source": [
    "### Data Cleaning"
   ]
  },
  {
   "cell_type": "markdown",
   "metadata": {},
   "source": [
    "To-do:\n",
    "- [x] Convert \"date_recorded\" into datetime object.\n",
    "- [x] Convert target label 'status_group' into categorical dtype.\n",
    "- [x] Convert 0 into np.nan in construction_year\n",
    "- [x] Merge all English and Swahili terms in wpt_name into English.\n",
    "- [ ] Convert all objects into categorical dtypes before OHE.\n",
    "- [ ] Consider converting \"0\" into most popular category for \"funder\" and \"installer\"\n",
    "- [ ] Compare model performance when removing \"M\", \"1\" and \"I\" in \"subvillage\" vs. keeping them.\n",
    "- [ ] Compare model performance when removing \"K\", \"M\", \"I\", \"N\" and \"S\" in \"scheme_name\" vs. keeping them.\n",
    "- [ ] Values greater than 10,000 in \"population\" appear to be outliers and needs cleaning.\n",
    "- [ ] Convert \"none\" in \"wpt_name\" into most popular category.\n",
    "- [ ] Clean the 0.0 in \"longitude\" values as they appear to be clerical errors."
   ]
  },
  {
   "cell_type": "code",
   "execution_count": 41,
   "metadata": {},
   "outputs": [],
   "source": [
    "# Convert date_recorded into a datetime object for further engineering\n",
    "df['date_recorded'] = pd.to_datetime(df['date_recorded'], infer_datetime_format=True, errors='ignore')\n",
    "\n",
    "# Convert target feature into categorical to speed up training of the ML models\n",
    "df['status_group'] = df['status_group'].astype('category')"
   ]
  },
  {
   "cell_type": "markdown",
   "metadata": {},
   "source": [
    "### Feature Engineering"
   ]
  },
  {
   "cell_type": "code",
   "execution_count": 42,
   "metadata": {},
   "outputs": [
    {
     "ename": "ValueError",
     "evalue": "Cannot convert non-finite values (NA or inf) to integer",
     "output_type": "error",
     "traceback": [
      "\u001b[0;31m---------------------------------------------------------------------------\u001b[0m",
      "\u001b[0;31mValueError\u001b[0m                                Traceback (most recent call last)",
      "\u001b[0;32m<ipython-input-42-7d38f2cccf1a>\u001b[0m in \u001b[0;36m<module>\u001b[0;34m()\u001b[0m\n\u001b[1;32m     10\u001b[0m \u001b[0;31m# Transform \"construction_year\" dtype into int to do operations so we can calculate the years difference\u001b[0m\u001b[0;34m\u001b[0m\u001b[0;34m\u001b[0m\u001b[0m\n\u001b[1;32m     11\u001b[0m \u001b[0;31m# from when a waterpoint was constructed and when it was last checked.\u001b[0m\u001b[0;34m\u001b[0m\u001b[0;34m\u001b[0m\u001b[0m\n\u001b[0;32m---> 12\u001b[0;31m \u001b[0mdf\u001b[0m\u001b[0;34m[\u001b[0m\u001b[0;34m'construction_year'\u001b[0m\u001b[0;34m]\u001b[0m \u001b[0;34m=\u001b[0m \u001b[0mdf\u001b[0m\u001b[0;34m[\u001b[0m\u001b[0;34m'construction_year'\u001b[0m\u001b[0;34m]\u001b[0m\u001b[0;34m.\u001b[0m\u001b[0mastype\u001b[0m\u001b[0;34m(\u001b[0m\u001b[0;34m\"int64\"\u001b[0m\u001b[0;34m)\u001b[0m\u001b[0;34m\u001b[0m\u001b[0m\n\u001b[0m\u001b[1;32m     13\u001b[0m \u001b[0mdf\u001b[0m\u001b[0;34m[\u001b[0m\u001b[0;34m'age_of_pump'\u001b[0m\u001b[0;34m]\u001b[0m \u001b[0;34m=\u001b[0m \u001b[0mdf\u001b[0m\u001b[0;34m[\u001b[0m\u001b[0;34m'year_recorded'\u001b[0m\u001b[0;34m]\u001b[0m\u001b[0;34m.\u001b[0m\u001b[0mvalues\u001b[0m \u001b[0;34m-\u001b[0m \u001b[0mdf\u001b[0m\u001b[0;34m[\u001b[0m\u001b[0;34m'construction_year'\u001b[0m\u001b[0;34m]\u001b[0m\u001b[0;34m.\u001b[0m\u001b[0mvalues\u001b[0m\u001b[0;34m\u001b[0m\u001b[0m\n\u001b[1;32m     14\u001b[0m \u001b[0;34m\u001b[0m\u001b[0m\n",
      "\u001b[0;32m~/anaconda3/lib/python3.6/site-packages/pandas/util/_decorators.py\u001b[0m in \u001b[0;36mwrapper\u001b[0;34m(*args, **kwargs)\u001b[0m\n\u001b[1;32m    176\u001b[0m                 \u001b[0;32melse\u001b[0m\u001b[0;34m:\u001b[0m\u001b[0;34m\u001b[0m\u001b[0m\n\u001b[1;32m    177\u001b[0m                     \u001b[0mkwargs\u001b[0m\u001b[0;34m[\u001b[0m\u001b[0mnew_arg_name\u001b[0m\u001b[0;34m]\u001b[0m \u001b[0;34m=\u001b[0m \u001b[0mnew_arg_value\u001b[0m\u001b[0;34m\u001b[0m\u001b[0m\n\u001b[0;32m--> 178\u001b[0;31m             \u001b[0;32mreturn\u001b[0m \u001b[0mfunc\u001b[0m\u001b[0;34m(\u001b[0m\u001b[0;34m*\u001b[0m\u001b[0margs\u001b[0m\u001b[0;34m,\u001b[0m \u001b[0;34m**\u001b[0m\u001b[0mkwargs\u001b[0m\u001b[0;34m)\u001b[0m\u001b[0;34m\u001b[0m\u001b[0m\n\u001b[0m\u001b[1;32m    179\u001b[0m         \u001b[0;32mreturn\u001b[0m \u001b[0mwrapper\u001b[0m\u001b[0;34m\u001b[0m\u001b[0m\n\u001b[1;32m    180\u001b[0m     \u001b[0;32mreturn\u001b[0m \u001b[0m_deprecate_kwarg\u001b[0m\u001b[0;34m\u001b[0m\u001b[0m\n",
      "\u001b[0;32m~/anaconda3/lib/python3.6/site-packages/pandas/core/generic.py\u001b[0m in \u001b[0;36mastype\u001b[0;34m(self, dtype, copy, errors, **kwargs)\u001b[0m\n\u001b[1;32m   4999\u001b[0m             \u001b[0;31m# else, only a single dtype is given\u001b[0m\u001b[0;34m\u001b[0m\u001b[0;34m\u001b[0m\u001b[0m\n\u001b[1;32m   5000\u001b[0m             new_data = self._data.astype(dtype=dtype, copy=copy, errors=errors,\n\u001b[0;32m-> 5001\u001b[0;31m                                          **kwargs)\n\u001b[0m\u001b[1;32m   5002\u001b[0m             \u001b[0;32mreturn\u001b[0m \u001b[0mself\u001b[0m\u001b[0;34m.\u001b[0m\u001b[0m_constructor\u001b[0m\u001b[0;34m(\u001b[0m\u001b[0mnew_data\u001b[0m\u001b[0;34m)\u001b[0m\u001b[0;34m.\u001b[0m\u001b[0m__finalize__\u001b[0m\u001b[0;34m(\u001b[0m\u001b[0mself\u001b[0m\u001b[0;34m)\u001b[0m\u001b[0;34m\u001b[0m\u001b[0m\n\u001b[1;32m   5003\u001b[0m \u001b[0;34m\u001b[0m\u001b[0m\n",
      "\u001b[0;32m~/anaconda3/lib/python3.6/site-packages/pandas/core/internals.py\u001b[0m in \u001b[0;36mastype\u001b[0;34m(self, dtype, **kwargs)\u001b[0m\n\u001b[1;32m   3712\u001b[0m \u001b[0;34m\u001b[0m\u001b[0m\n\u001b[1;32m   3713\u001b[0m     \u001b[0;32mdef\u001b[0m \u001b[0mastype\u001b[0m\u001b[0;34m(\u001b[0m\u001b[0mself\u001b[0m\u001b[0;34m,\u001b[0m \u001b[0mdtype\u001b[0m\u001b[0;34m,\u001b[0m \u001b[0;34m**\u001b[0m\u001b[0mkwargs\u001b[0m\u001b[0;34m)\u001b[0m\u001b[0;34m:\u001b[0m\u001b[0;34m\u001b[0m\u001b[0m\n\u001b[0;32m-> 3714\u001b[0;31m         \u001b[0;32mreturn\u001b[0m \u001b[0mself\u001b[0m\u001b[0;34m.\u001b[0m\u001b[0mapply\u001b[0m\u001b[0;34m(\u001b[0m\u001b[0;34m'astype'\u001b[0m\u001b[0;34m,\u001b[0m \u001b[0mdtype\u001b[0m\u001b[0;34m=\u001b[0m\u001b[0mdtype\u001b[0m\u001b[0;34m,\u001b[0m \u001b[0;34m**\u001b[0m\u001b[0mkwargs\u001b[0m\u001b[0;34m)\u001b[0m\u001b[0;34m\u001b[0m\u001b[0m\n\u001b[0m\u001b[1;32m   3715\u001b[0m \u001b[0;34m\u001b[0m\u001b[0m\n\u001b[1;32m   3716\u001b[0m     \u001b[0;32mdef\u001b[0m \u001b[0mconvert\u001b[0m\u001b[0;34m(\u001b[0m\u001b[0mself\u001b[0m\u001b[0;34m,\u001b[0m \u001b[0;34m**\u001b[0m\u001b[0mkwargs\u001b[0m\u001b[0;34m)\u001b[0m\u001b[0;34m:\u001b[0m\u001b[0;34m\u001b[0m\u001b[0m\n",
      "\u001b[0;32m~/anaconda3/lib/python3.6/site-packages/pandas/core/internals.py\u001b[0m in \u001b[0;36mapply\u001b[0;34m(self, f, axes, filter, do_integrity_check, consolidate, **kwargs)\u001b[0m\n\u001b[1;32m   3579\u001b[0m \u001b[0;34m\u001b[0m\u001b[0m\n\u001b[1;32m   3580\u001b[0m             \u001b[0mkwargs\u001b[0m\u001b[0;34m[\u001b[0m\u001b[0;34m'mgr'\u001b[0m\u001b[0;34m]\u001b[0m \u001b[0;34m=\u001b[0m \u001b[0mself\u001b[0m\u001b[0;34m\u001b[0m\u001b[0m\n\u001b[0;32m-> 3581\u001b[0;31m             \u001b[0mapplied\u001b[0m \u001b[0;34m=\u001b[0m \u001b[0mgetattr\u001b[0m\u001b[0;34m(\u001b[0m\u001b[0mb\u001b[0m\u001b[0;34m,\u001b[0m \u001b[0mf\u001b[0m\u001b[0;34m)\u001b[0m\u001b[0;34m(\u001b[0m\u001b[0;34m**\u001b[0m\u001b[0mkwargs\u001b[0m\u001b[0;34m)\u001b[0m\u001b[0;34m\u001b[0m\u001b[0m\n\u001b[0m\u001b[1;32m   3582\u001b[0m             \u001b[0mresult_blocks\u001b[0m \u001b[0;34m=\u001b[0m \u001b[0m_extend_blocks\u001b[0m\u001b[0;34m(\u001b[0m\u001b[0mapplied\u001b[0m\u001b[0;34m,\u001b[0m \u001b[0mresult_blocks\u001b[0m\u001b[0;34m)\u001b[0m\u001b[0;34m\u001b[0m\u001b[0m\n\u001b[1;32m   3583\u001b[0m \u001b[0;34m\u001b[0m\u001b[0m\n",
      "\u001b[0;32m~/anaconda3/lib/python3.6/site-packages/pandas/core/internals.py\u001b[0m in \u001b[0;36mastype\u001b[0;34m(self, dtype, copy, errors, values, **kwargs)\u001b[0m\n\u001b[1;32m    573\u001b[0m     \u001b[0;32mdef\u001b[0m \u001b[0mastype\u001b[0m\u001b[0;34m(\u001b[0m\u001b[0mself\u001b[0m\u001b[0;34m,\u001b[0m \u001b[0mdtype\u001b[0m\u001b[0;34m,\u001b[0m \u001b[0mcopy\u001b[0m\u001b[0;34m=\u001b[0m\u001b[0;32mFalse\u001b[0m\u001b[0;34m,\u001b[0m \u001b[0merrors\u001b[0m\u001b[0;34m=\u001b[0m\u001b[0;34m'raise'\u001b[0m\u001b[0;34m,\u001b[0m \u001b[0mvalues\u001b[0m\u001b[0;34m=\u001b[0m\u001b[0;32mNone\u001b[0m\u001b[0;34m,\u001b[0m \u001b[0;34m**\u001b[0m\u001b[0mkwargs\u001b[0m\u001b[0;34m)\u001b[0m\u001b[0;34m:\u001b[0m\u001b[0;34m\u001b[0m\u001b[0m\n\u001b[1;32m    574\u001b[0m         return self._astype(dtype, copy=copy, errors=errors, values=values,\n\u001b[0;32m--> 575\u001b[0;31m                             **kwargs)\n\u001b[0m\u001b[1;32m    576\u001b[0m \u001b[0;34m\u001b[0m\u001b[0m\n\u001b[1;32m    577\u001b[0m     def _astype(self, dtype, copy=False, errors='raise', values=None,\n",
      "\u001b[0;32m~/anaconda3/lib/python3.6/site-packages/pandas/core/internals.py\u001b[0m in \u001b[0;36m_astype\u001b[0;34m(self, dtype, copy, errors, values, klass, mgr, **kwargs)\u001b[0m\n\u001b[1;32m    662\u001b[0m \u001b[0;34m\u001b[0m\u001b[0m\n\u001b[1;32m    663\u001b[0m                 \u001b[0;31m# _astype_nansafe works fine with 1-d only\u001b[0m\u001b[0;34m\u001b[0m\u001b[0;34m\u001b[0m\u001b[0m\n\u001b[0;32m--> 664\u001b[0;31m                 \u001b[0mvalues\u001b[0m \u001b[0;34m=\u001b[0m \u001b[0mastype_nansafe\u001b[0m\u001b[0;34m(\u001b[0m\u001b[0mvalues\u001b[0m\u001b[0;34m.\u001b[0m\u001b[0mravel\u001b[0m\u001b[0;34m(\u001b[0m\u001b[0;34m)\u001b[0m\u001b[0;34m,\u001b[0m \u001b[0mdtype\u001b[0m\u001b[0;34m,\u001b[0m \u001b[0mcopy\u001b[0m\u001b[0;34m=\u001b[0m\u001b[0;32mTrue\u001b[0m\u001b[0;34m)\u001b[0m\u001b[0;34m\u001b[0m\u001b[0m\n\u001b[0m\u001b[1;32m    665\u001b[0m                 \u001b[0mvalues\u001b[0m \u001b[0;34m=\u001b[0m \u001b[0mvalues\u001b[0m\u001b[0;34m.\u001b[0m\u001b[0mreshape\u001b[0m\u001b[0;34m(\u001b[0m\u001b[0mself\u001b[0m\u001b[0;34m.\u001b[0m\u001b[0mshape\u001b[0m\u001b[0;34m)\u001b[0m\u001b[0;34m\u001b[0m\u001b[0m\n\u001b[1;32m    666\u001b[0m \u001b[0;34m\u001b[0m\u001b[0m\n",
      "\u001b[0;32m~/anaconda3/lib/python3.6/site-packages/pandas/core/dtypes/cast.py\u001b[0m in \u001b[0;36mastype_nansafe\u001b[0;34m(arr, dtype, copy)\u001b[0m\n\u001b[1;32m    700\u001b[0m \u001b[0;34m\u001b[0m\u001b[0m\n\u001b[1;32m    701\u001b[0m         \u001b[0;32mif\u001b[0m \u001b[0;32mnot\u001b[0m \u001b[0mnp\u001b[0m\u001b[0;34m.\u001b[0m\u001b[0misfinite\u001b[0m\u001b[0;34m(\u001b[0m\u001b[0marr\u001b[0m\u001b[0;34m)\u001b[0m\u001b[0;34m.\u001b[0m\u001b[0mall\u001b[0m\u001b[0;34m(\u001b[0m\u001b[0;34m)\u001b[0m\u001b[0;34m:\u001b[0m\u001b[0;34m\u001b[0m\u001b[0m\n\u001b[0;32m--> 702\u001b[0;31m             raise ValueError('Cannot convert non-finite values (NA or inf) to '\n\u001b[0m\u001b[1;32m    703\u001b[0m                              'integer')\n\u001b[1;32m    704\u001b[0m \u001b[0;34m\u001b[0m\u001b[0m\n",
      "\u001b[0;31mValueError\u001b[0m: Cannot convert non-finite values (NA or inf) to integer"
     ]
    }
   ],
   "source": [
    "# Creating new features from the date_recorded feature representing the date the row was entered into the dataset.\n",
    "df['year_recorded'] = df['date_recorded'].dt.year\n",
    "df['month_recorded'] = df['date_recorded'].dt.month \n",
    "df['week_of_year_recorded'] = df['date_recorded'].dt.weekofyear\n",
    "df['day_of_week_recorded'] = df['date_recorded'].dt.dayofweek\n",
    "df['day_of_year_recorded'] = df['date_recorded'].dt.dayofyear\n",
    "df['quarter_of_date_recorded'] = df['date_recorded'].dt.quarter\n",
    "\n",
    "\n",
    "# Transform \"construction_year\" dtype into int to do operations so we can calculate the years difference \n",
    "# from when a waterpoint was constructed and when it was last checked.\n",
    "df['construction_year'] = df['construction_year'].astype(\"int64\")\n",
    "df['age_of_pump'] = df['year_recorded'].values - df['construction_year'].values\n",
    "\n",
    "# Sanity checking the new features compared to date_recorded\n",
    "df[['date_recorded',\n",
    "    'construction_year',\n",
    "    'year_recorded',  \n",
    "    'age_of_pump',\n",
    "    'month_recorded',\n",
    "    'week_of_year_recorded',\n",
    "    'day_of_week_recorded',\n",
    "    'day_of_year_recorded',\n",
    "    'quarter_of_date_recorded'\n",
    "   ]].head(10)"
   ]
  },
  {
   "cell_type": "code",
   "execution_count": null,
   "metadata": {},
   "outputs": [],
   "source": [
    "df[['date_recorded',\n",
    "    'year_recorded', \n",
    "    'construction_year', \n",
    "    'age_of_pump',\n",
    "    'month_recorded', \n",
    "    'week_of_year_recorded',\n",
    "    'day_of_week_recorded',\n",
    "    'day_of_year_recorded',\n",
    "    'quarter_of_date_recorded'\n",
    "   ]].dtypes"
   ]
  },
  {
   "cell_type": "markdown",
   "metadata": {},
   "source": [
    "All the new features created off of date_recorded pass the sanity checks and all share the int64 data type. This is important as they are now numerical values required for most machine learning models."
   ]
  },
  {
   "cell_type": "code",
   "execution_count": null,
   "metadata": {},
   "outputs": [],
   "source": [
    "# Dropping date_recorded as we have engineered new features based on it.\n",
    "df.drop('date_recorded',axis=1, inplace=True, errors='ignore')\n",
    "df.head()"
   ]
  },
  {
   "cell_type": "markdown",
   "metadata": {},
   "source": [
    "We can create an additional feature by doing the following calculation ('amount_tsh' / 'population') which will return the proportion of water available to a waterpoint out of the full population nearby."
   ]
  },
  {
   "cell_type": "code",
   "execution_count": null,
   "metadata": {
    "scrolled": true
   },
   "outputs": [],
   "source": [
    "df['water_relative_to_pop'] = df['amount_tsh'].values - df['population'].values\n",
    "print(\"water relative to population values range: \", df['water_relative_to_pop'].value_counts())"
   ]
  },
  {
   "cell_type": "markdown",
   "metadata": {},
   "source": [
    "Although there are disproportionately more negative values in the amount of water available out of population nearby this is the reality in Tanzania. Water availability is scarce in Tanzania, in fact according to water.org only 50% of Tanzania's population of 53 million have access to an improved source of safe water. This is the reason why Tanzanians spend a significant amount of time travelling some distance to collect water."
   ]
  },
  {
   "cell_type": "code",
   "execution_count": null,
   "metadata": {
    "scrolled": true
   },
   "outputs": [],
   "source": [
    "df.dtypes"
   ]
  },
  {
   "cell_type": "code",
   "execution_count": null,
   "metadata": {},
   "outputs": [],
   "source": [
    "print (\"There are {} unique names out of {} unique waterpoints\".format(df['wpt_name'].nunique(), df.shape[0]))\n",
    "print (\"This is because there are many waterpoints that have 'none' as their names as seen here:\\n\", df['wpt_name'].value_counts())"
   ]
  },
  {
   "cell_type": "markdown",
   "metadata": {},
   "source": [
    "There is another interesting finding when digging deeper into wpt_names. There is a mixture of Swahili and English words which is likely due to that both Swahili and English are the most commonly spoken languages in Tanzania but it makes the data dirty.\n",
    "\n",
    "1748 of waterpoints share the name Shuleni as seen in wpt_name. According to Google Translate it means 'at school' which probably means that the waterpoint is in proximity to a school. Below is a list of the most frequent names for water wells and their translation into English:\n",
    "- Shuleni = at school (can potentially be cleaned to be merged with the English \"school\" below)\n",
    "- Zahanati = dispensary\n",
    "- Msikitini = mosque\n",
    "- Kanisani = church\n",
    "- Bombani = bomb (?)\n",
    "- Sokoni = coconut (?)\n",
    "- Ofisini = office\n",
    "- School\n",
    "- Shule Ya Msingi = primary school (can potentially be cleaned to be merged with the English \"school\")\n",
    "- Shule = school (can be cleaned to be merged with the English \"school\")\n",
    "- Sekondari = secondary (likely referring to secondary school, cleaned and merged with English \"school\")\n",
    "- Muungano = in the congregation\n",
    "- Mkombozi = redeemer (?)\n",
    "- Madukani = shopping\n",
    "- Mbugani = wilderness\n",
    "- Hospital\n",
    "- Upendo = love (?)\n",
    "- Kituo Cha Afya = health center\n",
    "- Mkuyuni = in the snow (?)\n",
    "- Umoja = unity (?)\n",
    "- Center\n",
    "- Ccm (?)\n",
    "- Kisimani = well\n",
    "- Ofisi Ya Kijiji = village office\n",
    "- Mtakuja = you are coming (?)\n",
    "- Tankini = ?\n",
    "- Bwawani = sister (?)\n",
    "- Songambele = ?\n",
    "- Maendeleo = advancement (?)\n"
   ]
  },
  {
   "cell_type": "code",
   "execution_count": null,
   "metadata": {
    "scrolled": true
   },
   "outputs": [],
   "source": [
    "# Merging Swahili and English terms into English\n",
    "lang_mapping = {\n",
    "    \"Shuleni\": \"School\",\n",
    "    \"Shule Ya Msingi\": \"School\",\n",
    "    \"Shule\": \"School\",\n",
    "    \"Sekondari\": \"School\",\n",
    "    \"Kituo Cha Afya\":\"Center\",\n",
    "}\n",
    "df['wpt_name'] = df['wpt_name'].replace(lang_mapping)\n",
    "df.sample(1000)"
   ]
  },
  {
   "cell_type": "code",
   "execution_count": null,
   "metadata": {},
   "outputs": [],
   "source": [
    "school_strings = []\n",
    "for string in df['wpt_name']:\n",
    "    if ('School' in string or 'Shule' in string or 'school' in string or 'shule' in string):\n",
    "        school_strings.append(string)\n",
    "print (school_strings)"
   ]
  },
  {
   "cell_type": "markdown",
   "metadata": {},
   "source": [
    "It is obvious there are many variations of schools which we should combine into a single 'school' string."
   ]
  },
  {
   "cell_type": "code",
   "execution_count": null,
   "metadata": {},
   "outputs": [],
   "source": [
    "# Merging all string values with same meaning into one string to prepare for one-hot encoding.\n",
    "df['wpt_name'] = ['School' if 'School' in item \n",
    "                  or 'school' in item \n",
    "                  or 'Shule' in item\n",
    "                  or 'Shuleni' in item\n",
    "                  or 'shuleni' in item\n",
    "                  or 'shule' in item \n",
    "                  or 'secondary' in item\n",
    "                  or 'Secondary' in item\n",
    "                  or 'Primary' in item\n",
    "                  or 'primary' in item\n",
    "                  else item for item in df['wpt_name']]\n",
    "df['wpt_name'] = ['For_person' if 'Kwa' in item else item for item in df['wpt_name']]\n",
    "df['wpt_name'] = ['Church' if 'Church' in item\n",
    "                  or 'church' in item\n",
    "                  or 'Kanisani' in item\n",
    "                  or 'kanisani' in item\n",
    "                  else item for item in df['wpt_name']]\n",
    "df['wpt_name'] = ['Mosque' if 'Mosque' in item\n",
    "                  or 'mosque' in item\n",
    "                  or 'Msikitini' in item\n",
    "                  or 'msikitini' in item\n",
    "                  else item for item in df['wpt_name']]\n",
    "df['wpt_name'] = ['Medical' if 'Zahanati' in item\n",
    "                  or 'Hospital' in item\n",
    "                  or 'hospital' in item\n",
    "                  or 'Kituo Cha Afya' in item\n",
    "                  or 'Center' in item\n",
    "                  or 'Afya' in item\n",
    "                  else item for item in df['wpt_name']]\n",
    "df['wpt_name'] = ['Office' if 'Ofisini' in item\n",
    "                  or 'ofisini' in item\n",
    "                  or 'Ofisi' in item\n",
    "                  or 'ofisi' in item\n",
    "                  or 'Office' in item\n",
    "                  or 'office' in item\n",
    "                  else item for item in df['wpt_name']]\n",
    "print(df.groupby('wpt_name')['status_group'].value_counts().sort_values(ascending=False))"
   ]
  },
  {
   "cell_type": "code",
   "execution_count": null,
   "metadata": {},
   "outputs": [],
   "source": [
    "# Identify all categorical features\n",
    "df_objects = df.select_dtypes(include=['object'])\n",
    "df_objects.columns\n",
    "\n",
    "\n",
    "# One-hot encode categorical features\n",
    "# pd.get_dummies(df_objects, drop_first=True, sparse=True)\n"
   ]
  },
  {
   "cell_type": "markdown",
   "metadata": {},
   "source": [
    "### Dimensionality Reduction"
   ]
  },
  {
   "cell_type": "markdown",
   "metadata": {},
   "source": [
    "#### Feature Selection"
   ]
  },
  {
   "cell_type": "markdown",
   "metadata": {},
   "source": [
    "## Hyperparameter Tuning"
   ]
  },
  {
   "cell_type": "code",
   "execution_count": null,
   "metadata": {},
   "outputs": [],
   "source": []
  },
  {
   "cell_type": "markdown",
   "metadata": {},
   "source": [
    "To-do:\n",
    "* Compare validation score when dropping either \"construction_year\" or \"gps_height\" due to positive correlation.\n",
    "* Compare validation score when dropping either \"district_code\" or \"region_code\" for the same reason."
   ]
  },
  {
   "cell_type": "code",
   "execution_count": null,
   "metadata": {},
   "outputs": [],
   "source": []
  }
 ],
 "metadata": {
  "kernelspec": {
   "display_name": "Python 3",
   "language": "python",
   "name": "python3"
  },
  "language_info": {
   "codemirror_mode": {
    "name": "ipython",
    "version": 3
   },
   "file_extension": ".py",
   "mimetype": "text/x-python",
   "name": "python",
   "nbconvert_exporter": "python",
   "pygments_lexer": "ipython3",
   "version": "3.6.6"
  }
 },
 "nbformat": 4,
 "nbformat_minor": 2
}
